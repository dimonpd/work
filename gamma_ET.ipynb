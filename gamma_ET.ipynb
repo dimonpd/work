{
 "cells": [
  {
   "cell_type": "code",
   "id": "initial_id",
   "metadata": {
    "collapsed": true,
    "ExecuteTime": {
     "end_time": "2024-09-11T14:38:16.598956Z",
     "start_time": "2024-09-11T14:38:15.717969Z"
    }
   },
   "source": [
    "import pandas as pd\n",
    "import numpy as np "
   ],
   "outputs": [],
   "execution_count": 1
  },
  {
   "metadata": {
    "ExecuteTime": {
     "end_time": "2024-09-11T14:47:04.852362Z",
     "start_time": "2024-09-11T14:47:04.798744Z"
    }
   },
   "cell_type": "code",
   "source": "gmv = pd.read_excel('C:/Users/Dimon/Downloads/gmv.xlsx', index_col=0, skiprows=2)",
   "id": "1e6445235b495ffb",
   "outputs": [
    {
     "ename": "FileNotFoundError",
     "evalue": "[Errno 2] No such file or directory: 'C:/Users/Dimon/Downloads/gmv.xlsx'",
     "output_type": "error",
     "traceback": [
      "\u001B[1;31m---------------------------------------------------------------------------\u001B[0m",
      "\u001B[1;31mFileNotFoundError\u001B[0m                         Traceback (most recent call last)",
      "Cell \u001B[1;32mIn[3], line 1\u001B[0m\n\u001B[1;32m----> 1\u001B[0m gmv \u001B[38;5;241m=\u001B[39m \u001B[43mpd\u001B[49m\u001B[38;5;241;43m.\u001B[39;49m\u001B[43mread_excel\u001B[49m\u001B[43m(\u001B[49m\u001B[38;5;124;43m'\u001B[39;49m\u001B[38;5;124;43mC:/Users/Dimon/Downloads/gmv.xlsx\u001B[39;49m\u001B[38;5;124;43m'\u001B[39;49m\u001B[43m,\u001B[49m\u001B[43m \u001B[49m\u001B[43mindex_col\u001B[49m\u001B[38;5;241;43m=\u001B[39;49m\u001B[38;5;241;43m0\u001B[39;49m\u001B[43m,\u001B[49m\u001B[43m \u001B[49m\u001B[43mskiprows\u001B[49m\u001B[38;5;241;43m=\u001B[39;49m\u001B[38;5;241;43m2\u001B[39;49m\u001B[43m)\u001B[49m\n",
      "File \u001B[1;32m~\\DataspellProjects\\final_project\\final\\venv\\Lib\\site-packages\\pandas\\io\\excel\\_base.py:495\u001B[0m, in \u001B[0;36mread_excel\u001B[1;34m(io, sheet_name, header, names, index_col, usecols, dtype, engine, converters, true_values, false_values, skiprows, nrows, na_values, keep_default_na, na_filter, verbose, parse_dates, date_parser, date_format, thousands, decimal, comment, skipfooter, storage_options, dtype_backend, engine_kwargs)\u001B[0m\n\u001B[0;32m    493\u001B[0m \u001B[38;5;28;01mif\u001B[39;00m \u001B[38;5;129;01mnot\u001B[39;00m \u001B[38;5;28misinstance\u001B[39m(io, ExcelFile):\n\u001B[0;32m    494\u001B[0m     should_close \u001B[38;5;241m=\u001B[39m \u001B[38;5;28;01mTrue\u001B[39;00m\n\u001B[1;32m--> 495\u001B[0m     io \u001B[38;5;241m=\u001B[39m \u001B[43mExcelFile\u001B[49m\u001B[43m(\u001B[49m\n\u001B[0;32m    496\u001B[0m \u001B[43m        \u001B[49m\u001B[43mio\u001B[49m\u001B[43m,\u001B[49m\n\u001B[0;32m    497\u001B[0m \u001B[43m        \u001B[49m\u001B[43mstorage_options\u001B[49m\u001B[38;5;241;43m=\u001B[39;49m\u001B[43mstorage_options\u001B[49m\u001B[43m,\u001B[49m\n\u001B[0;32m    498\u001B[0m \u001B[43m        \u001B[49m\u001B[43mengine\u001B[49m\u001B[38;5;241;43m=\u001B[39;49m\u001B[43mengine\u001B[49m\u001B[43m,\u001B[49m\n\u001B[0;32m    499\u001B[0m \u001B[43m        \u001B[49m\u001B[43mengine_kwargs\u001B[49m\u001B[38;5;241;43m=\u001B[39;49m\u001B[43mengine_kwargs\u001B[49m\u001B[43m,\u001B[49m\n\u001B[0;32m    500\u001B[0m \u001B[43m    \u001B[49m\u001B[43m)\u001B[49m\n\u001B[0;32m    501\u001B[0m \u001B[38;5;28;01melif\u001B[39;00m engine \u001B[38;5;129;01mand\u001B[39;00m engine \u001B[38;5;241m!=\u001B[39m io\u001B[38;5;241m.\u001B[39mengine:\n\u001B[0;32m    502\u001B[0m     \u001B[38;5;28;01mraise\u001B[39;00m \u001B[38;5;167;01mValueError\u001B[39;00m(\n\u001B[0;32m    503\u001B[0m         \u001B[38;5;124m\"\u001B[39m\u001B[38;5;124mEngine should not be specified when passing \u001B[39m\u001B[38;5;124m\"\u001B[39m\n\u001B[0;32m    504\u001B[0m         \u001B[38;5;124m\"\u001B[39m\u001B[38;5;124man ExcelFile - ExcelFile already has the engine set\u001B[39m\u001B[38;5;124m\"\u001B[39m\n\u001B[0;32m    505\u001B[0m     )\n",
      "File \u001B[1;32m~\\DataspellProjects\\final_project\\final\\venv\\Lib\\site-packages\\pandas\\io\\excel\\_base.py:1550\u001B[0m, in \u001B[0;36mExcelFile.__init__\u001B[1;34m(self, path_or_buffer, engine, storage_options, engine_kwargs)\u001B[0m\n\u001B[0;32m   1548\u001B[0m     ext \u001B[38;5;241m=\u001B[39m \u001B[38;5;124m\"\u001B[39m\u001B[38;5;124mxls\u001B[39m\u001B[38;5;124m\"\u001B[39m\n\u001B[0;32m   1549\u001B[0m \u001B[38;5;28;01melse\u001B[39;00m:\n\u001B[1;32m-> 1550\u001B[0m     ext \u001B[38;5;241m=\u001B[39m \u001B[43minspect_excel_format\u001B[49m\u001B[43m(\u001B[49m\n\u001B[0;32m   1551\u001B[0m \u001B[43m        \u001B[49m\u001B[43mcontent_or_path\u001B[49m\u001B[38;5;241;43m=\u001B[39;49m\u001B[43mpath_or_buffer\u001B[49m\u001B[43m,\u001B[49m\u001B[43m \u001B[49m\u001B[43mstorage_options\u001B[49m\u001B[38;5;241;43m=\u001B[39;49m\u001B[43mstorage_options\u001B[49m\n\u001B[0;32m   1552\u001B[0m \u001B[43m    \u001B[49m\u001B[43m)\u001B[49m\n\u001B[0;32m   1553\u001B[0m     \u001B[38;5;28;01mif\u001B[39;00m ext \u001B[38;5;129;01mis\u001B[39;00m \u001B[38;5;28;01mNone\u001B[39;00m:\n\u001B[0;32m   1554\u001B[0m         \u001B[38;5;28;01mraise\u001B[39;00m \u001B[38;5;167;01mValueError\u001B[39;00m(\n\u001B[0;32m   1555\u001B[0m             \u001B[38;5;124m\"\u001B[39m\u001B[38;5;124mExcel file format cannot be determined, you must specify \u001B[39m\u001B[38;5;124m\"\u001B[39m\n\u001B[0;32m   1556\u001B[0m             \u001B[38;5;124m\"\u001B[39m\u001B[38;5;124man engine manually.\u001B[39m\u001B[38;5;124m\"\u001B[39m\n\u001B[0;32m   1557\u001B[0m         )\n",
      "File \u001B[1;32m~\\DataspellProjects\\final_project\\final\\venv\\Lib\\site-packages\\pandas\\io\\excel\\_base.py:1402\u001B[0m, in \u001B[0;36minspect_excel_format\u001B[1;34m(content_or_path, storage_options)\u001B[0m\n\u001B[0;32m   1399\u001B[0m \u001B[38;5;28;01mif\u001B[39;00m \u001B[38;5;28misinstance\u001B[39m(content_or_path, \u001B[38;5;28mbytes\u001B[39m):\n\u001B[0;32m   1400\u001B[0m     content_or_path \u001B[38;5;241m=\u001B[39m BytesIO(content_or_path)\n\u001B[1;32m-> 1402\u001B[0m \u001B[38;5;28;01mwith\u001B[39;00m \u001B[43mget_handle\u001B[49m\u001B[43m(\u001B[49m\n\u001B[0;32m   1403\u001B[0m \u001B[43m    \u001B[49m\u001B[43mcontent_or_path\u001B[49m\u001B[43m,\u001B[49m\u001B[43m \u001B[49m\u001B[38;5;124;43m\"\u001B[39;49m\u001B[38;5;124;43mrb\u001B[39;49m\u001B[38;5;124;43m\"\u001B[39;49m\u001B[43m,\u001B[49m\u001B[43m \u001B[49m\u001B[43mstorage_options\u001B[49m\u001B[38;5;241;43m=\u001B[39;49m\u001B[43mstorage_options\u001B[49m\u001B[43m,\u001B[49m\u001B[43m \u001B[49m\u001B[43mis_text\u001B[49m\u001B[38;5;241;43m=\u001B[39;49m\u001B[38;5;28;43;01mFalse\u001B[39;49;00m\n\u001B[0;32m   1404\u001B[0m \u001B[43m\u001B[49m\u001B[43m)\u001B[49m \u001B[38;5;28;01mas\u001B[39;00m handle:\n\u001B[0;32m   1405\u001B[0m     stream \u001B[38;5;241m=\u001B[39m handle\u001B[38;5;241m.\u001B[39mhandle\n\u001B[0;32m   1406\u001B[0m     stream\u001B[38;5;241m.\u001B[39mseek(\u001B[38;5;241m0\u001B[39m)\n",
      "File \u001B[1;32m~\\DataspellProjects\\final_project\\final\\venv\\Lib\\site-packages\\pandas\\io\\common.py:882\u001B[0m, in \u001B[0;36mget_handle\u001B[1;34m(path_or_buf, mode, encoding, compression, memory_map, is_text, errors, storage_options)\u001B[0m\n\u001B[0;32m    873\u001B[0m         handle \u001B[38;5;241m=\u001B[39m \u001B[38;5;28mopen\u001B[39m(\n\u001B[0;32m    874\u001B[0m             handle,\n\u001B[0;32m    875\u001B[0m             ioargs\u001B[38;5;241m.\u001B[39mmode,\n\u001B[1;32m   (...)\u001B[0m\n\u001B[0;32m    878\u001B[0m             newline\u001B[38;5;241m=\u001B[39m\u001B[38;5;124m\"\u001B[39m\u001B[38;5;124m\"\u001B[39m,\n\u001B[0;32m    879\u001B[0m         )\n\u001B[0;32m    880\u001B[0m     \u001B[38;5;28;01melse\u001B[39;00m:\n\u001B[0;32m    881\u001B[0m         \u001B[38;5;66;03m# Binary mode\u001B[39;00m\n\u001B[1;32m--> 882\u001B[0m         handle \u001B[38;5;241m=\u001B[39m \u001B[38;5;28;43mopen\u001B[39;49m\u001B[43m(\u001B[49m\u001B[43mhandle\u001B[49m\u001B[43m,\u001B[49m\u001B[43m \u001B[49m\u001B[43mioargs\u001B[49m\u001B[38;5;241;43m.\u001B[39;49m\u001B[43mmode\u001B[49m\u001B[43m)\u001B[49m\n\u001B[0;32m    883\u001B[0m     handles\u001B[38;5;241m.\u001B[39mappend(handle)\n\u001B[0;32m    885\u001B[0m \u001B[38;5;66;03m# Convert BytesIO or file objects passed with an encoding\u001B[39;00m\n",
      "\u001B[1;31mFileNotFoundError\u001B[0m: [Errno 2] No such file or directory: 'C:/Users/Dimon/Downloads/gmv.xlsx'"
     ]
    }
   ],
   "execution_count": 3
  },
  {
   "metadata": {
    "ExecuteTime": {
     "end_time": "2024-09-11T07:55:42.050867Z",
     "start_time": "2024-09-11T07:55:42.035573Z"
    }
   },
   "cell_type": "code",
   "source": "",
   "id": "5fb448b34c03498b",
   "outputs": [
    {
     "data": {
      "text/plain": [
       "        Артикул                                       Наименование  Отдел  \\\n",
       "79     10690746  Мешок для строительного мусора 70 л 55x95 см п...      1   \n",
       "106    12845385  Мешок для строительного мусора 70 л 55x95 см п...      1   \n",
       "502    12902562  Подвес прямой для потолочного профиля 60x27 мм...      1   \n",
       "93     83022208  Перчатки хлопчатобумажные обливные И-8047-И ра...      4   \n",
       "159    84921534  Кирпич рядовой керамический полнотелый М100 кр...      1   \n",
       "...         ...                                                ...    ...   \n",
       "33044  13537712  Перчатки хлопчатобумажные обливные размер 9/L ...      4   \n",
       "33078  81978629  Ламинат Artens «Ясень светлый» 32 класс толщин...      5   \n",
       "33080  10292561  Рамка для розеток и выключателей Legrand Valen...      3   \n",
       "33069  82034158      Шпаклёвка гипсовая финишная Волма Финиш 20 кг      1   \n",
       "33057  18566213            Изоляция для труб Порилекс 28/13мм, 1 м      8   \n",
       "\n",
       "               ТО  Маржа, %  Маржа, без НДС  Кол-во, ед.      Объем  \\\n",
       "79     1096034.80  0.024984        22831.81     103719.0  46.716490   \n",
       "106     936633.93  0.043372        33854.00      61064.0  29.102248   \n",
       "502     311013.68  0.097780        25340.56      41077.0   0.776766   \n",
       "93     1007303.00  0.218382       183325.22      36142.0  15.607959   \n",
       "159     740137.16  0.036822        22711.11      34147.0  66.586650   \n",
       "...           ...       ...             ...          ...        ...   \n",
       "33044     -336.52 -0.956852          268.69        -22.0  -0.030390   \n",
       "33078   -37116.48  0.162596        -5028.95        -23.0  -0.394363   \n",
       "33080   -42205.46  0.165500        -5820.72        -30.0  -0.008103   \n",
       "33069    -6480.98 -0.769637         4156.51        -36.0  -0.525096   \n",
       "33057    -1993.94  0.446854         -742.36        -51.0  -0.170706   \n",
       "\n",
       "              Вес  \n",
       "79       3941.322  \n",
       "106      2870.008  \n",
       "502      1314.464  \n",
       "93       1517.964  \n",
       "159    109270.400  \n",
       "...           ...  \n",
       "33044      -0.990  \n",
       "33078    -342.355  \n",
       "33080      -2.160  \n",
       "33069    -723.600  \n",
       "33057      -2.142  \n",
       "\n",
       "[33082 rows x 9 columns]"
      ],
      "text/html": [
       "<div>\n",
       "<style scoped>\n",
       "    .dataframe tbody tr th:only-of-type {\n",
       "        vertical-align: middle;\n",
       "    }\n",
       "\n",
       "    .dataframe tbody tr th {\n",
       "        vertical-align: top;\n",
       "    }\n",
       "\n",
       "    .dataframe thead th {\n",
       "        text-align: right;\n",
       "    }\n",
       "</style>\n",
       "<table border=\"1\" class=\"dataframe\">\n",
       "  <thead>\n",
       "    <tr style=\"text-align: right;\">\n",
       "      <th></th>\n",
       "      <th>Артикул</th>\n",
       "      <th>Наименование</th>\n",
       "      <th>Отдел</th>\n",
       "      <th>ТО</th>\n",
       "      <th>Маржа, %</th>\n",
       "      <th>Маржа, без НДС</th>\n",
       "      <th>Кол-во, ед.</th>\n",
       "      <th>Объем</th>\n",
       "      <th>Вес</th>\n",
       "    </tr>\n",
       "  </thead>\n",
       "  <tbody>\n",
       "    <tr>\n",
       "      <th>79</th>\n",
       "      <td>10690746</td>\n",
       "      <td>Мешок для строительного мусора 70 л 55x95 см п...</td>\n",
       "      <td>1</td>\n",
       "      <td>1096034.80</td>\n",
       "      <td>0.024984</td>\n",
       "      <td>22831.81</td>\n",
       "      <td>103719.0</td>\n",
       "      <td>46.716490</td>\n",
       "      <td>3941.322</td>\n",
       "    </tr>\n",
       "    <tr>\n",
       "      <th>106</th>\n",
       "      <td>12845385</td>\n",
       "      <td>Мешок для строительного мусора 70 л 55x95 см п...</td>\n",
       "      <td>1</td>\n",
       "      <td>936633.93</td>\n",
       "      <td>0.043372</td>\n",
       "      <td>33854.00</td>\n",
       "      <td>61064.0</td>\n",
       "      <td>29.102248</td>\n",
       "      <td>2870.008</td>\n",
       "    </tr>\n",
       "    <tr>\n",
       "      <th>502</th>\n",
       "      <td>12902562</td>\n",
       "      <td>Подвес прямой для потолочного профиля 60x27 мм...</td>\n",
       "      <td>1</td>\n",
       "      <td>311013.68</td>\n",
       "      <td>0.097780</td>\n",
       "      <td>25340.56</td>\n",
       "      <td>41077.0</td>\n",
       "      <td>0.776766</td>\n",
       "      <td>1314.464</td>\n",
       "    </tr>\n",
       "    <tr>\n",
       "      <th>93</th>\n",
       "      <td>83022208</td>\n",
       "      <td>Перчатки хлопчатобумажные обливные И-8047-И ра...</td>\n",
       "      <td>4</td>\n",
       "      <td>1007303.00</td>\n",
       "      <td>0.218382</td>\n",
       "      <td>183325.22</td>\n",
       "      <td>36142.0</td>\n",
       "      <td>15.607959</td>\n",
       "      <td>1517.964</td>\n",
       "    </tr>\n",
       "    <tr>\n",
       "      <th>159</th>\n",
       "      <td>84921534</td>\n",
       "      <td>Кирпич рядовой керамический полнотелый М100 кр...</td>\n",
       "      <td>1</td>\n",
       "      <td>740137.16</td>\n",
       "      <td>0.036822</td>\n",
       "      <td>22711.11</td>\n",
       "      <td>34147.0</td>\n",
       "      <td>66.586650</td>\n",
       "      <td>109270.400</td>\n",
       "    </tr>\n",
       "    <tr>\n",
       "      <th>...</th>\n",
       "      <td>...</td>\n",
       "      <td>...</td>\n",
       "      <td>...</td>\n",
       "      <td>...</td>\n",
       "      <td>...</td>\n",
       "      <td>...</td>\n",
       "      <td>...</td>\n",
       "      <td>...</td>\n",
       "      <td>...</td>\n",
       "    </tr>\n",
       "    <tr>\n",
       "      <th>33044</th>\n",
       "      <td>13537712</td>\n",
       "      <td>Перчатки хлопчатобумажные обливные размер 9/L ...</td>\n",
       "      <td>4</td>\n",
       "      <td>-336.52</td>\n",
       "      <td>-0.956852</td>\n",
       "      <td>268.69</td>\n",
       "      <td>-22.0</td>\n",
       "      <td>-0.030390</td>\n",
       "      <td>-0.990</td>\n",
       "    </tr>\n",
       "    <tr>\n",
       "      <th>33078</th>\n",
       "      <td>81978629</td>\n",
       "      <td>Ламинат Artens «Ясень светлый» 32 класс толщин...</td>\n",
       "      <td>5</td>\n",
       "      <td>-37116.48</td>\n",
       "      <td>0.162596</td>\n",
       "      <td>-5028.95</td>\n",
       "      <td>-23.0</td>\n",
       "      <td>-0.394363</td>\n",
       "      <td>-342.355</td>\n",
       "    </tr>\n",
       "    <tr>\n",
       "      <th>33080</th>\n",
       "      <td>10292561</td>\n",
       "      <td>Рамка для розеток и выключателей Legrand Valen...</td>\n",
       "      <td>3</td>\n",
       "      <td>-42205.46</td>\n",
       "      <td>0.165500</td>\n",
       "      <td>-5820.72</td>\n",
       "      <td>-30.0</td>\n",
       "      <td>-0.008103</td>\n",
       "      <td>-2.160</td>\n",
       "    </tr>\n",
       "    <tr>\n",
       "      <th>33069</th>\n",
       "      <td>82034158</td>\n",
       "      <td>Шпаклёвка гипсовая финишная Волма Финиш 20 кг</td>\n",
       "      <td>1</td>\n",
       "      <td>-6480.98</td>\n",
       "      <td>-0.769637</td>\n",
       "      <td>4156.51</td>\n",
       "      <td>-36.0</td>\n",
       "      <td>-0.525096</td>\n",
       "      <td>-723.600</td>\n",
       "    </tr>\n",
       "    <tr>\n",
       "      <th>33057</th>\n",
       "      <td>18566213</td>\n",
       "      <td>Изоляция для труб Порилекс 28/13мм, 1 м</td>\n",
       "      <td>8</td>\n",
       "      <td>-1993.94</td>\n",
       "      <td>0.446854</td>\n",
       "      <td>-742.36</td>\n",
       "      <td>-51.0</td>\n",
       "      <td>-0.170706</td>\n",
       "      <td>-2.142</td>\n",
       "    </tr>\n",
       "  </tbody>\n",
       "</table>\n",
       "<p>33082 rows × 9 columns</p>\n",
       "</div>"
      ]
     },
     "execution_count": 6,
     "metadata": {},
     "output_type": "execute_result"
    }
   ],
   "execution_count": 6
  },
  {
   "metadata": {},
   "cell_type": "markdown",
   "source": "объем уникальных артикулов ",
   "id": "be749d7d8c1eadc6"
  },
  {
   "metadata": {
    "ExecuteTime": {
     "end_time": "2024-09-11T08:20:29.710488Z",
     "start_time": "2024-09-11T08:20:29.695022Z"
    }
   },
   "cell_type": "code",
   "source": "units24['Артикул'].value_counts().sum()",
   "id": "ed8c2f64a7fbd817",
   "outputs": [
    {
     "data": {
      "text/plain": [
       "33082"
      ]
     },
     "execution_count": 7,
     "metadata": {},
     "output_type": "execute_result"
    }
   ],
   "execution_count": 7
  },
  {
   "metadata": {},
   "cell_type": "markdown",
   "source": "ТО суммарное за 8 мес в 24 году",
   "id": "40a7fc9a56cc5229"
  },
  {
   "metadata": {
    "ExecuteTime": {
     "end_time": "2024-09-11T08:23:08.232510Z",
     "start_time": "2024-09-11T08:23:08.224242Z"
    }
   },
   "cell_type": "code",
   "source": "units24['ТО'].sum()",
   "id": "cd01e038680a5aa4",
   "outputs": [
    {
     "data": {
      "text/plain": [
       "920879847.1099999"
      ]
     },
     "execution_count": 10,
     "metadata": {},
     "output_type": "execute_result"
    }
   ],
   "execution_count": 10
  },
  {
   "metadata": {},
   "cell_type": "code",
   "outputs": [],
   "execution_count": null,
   "source": "",
   "id": "bee2c5f960651d99"
  },
  {
   "metadata": {
    "ExecuteTime": {
     "end_time": "2024-09-11T08:27:54.411359Z",
     "start_time": "2024-09-11T08:27:54.394169Z"
    }
   },
   "cell_type": "code",
   "source": "",
   "id": "98f89a0ce37084e1",
   "outputs": [
    {
     "data": {
      "text/plain": [
       "Артикул\n",
       "84698363    1\n",
       "86797953    1\n",
       "89343315    1\n",
       "89343314    1\n",
       "82979881    1\n",
       "           ..\n",
       "87890879    1\n",
       "13105178    1\n",
       "81930439    1\n",
       "83508157    1\n",
       "82449649    1\n",
       "Name: count, Length: 33082, dtype: int64"
      ]
     },
     "execution_count": 11,
     "metadata": {},
     "output_type": "execute_result"
    }
   ],
   "execution_count": 11
  },
  {
   "metadata": {},
   "cell_type": "code",
   "outputs": [],
   "execution_count": null,
   "source": "",
   "id": "e7c0718294685296"
  }
 ],
 "metadata": {
  "kernelspec": {
   "display_name": "Python 3",
   "language": "python",
   "name": "python3"
  },
  "language_info": {
   "codemirror_mode": {
    "name": "ipython",
    "version": 2
   },
   "file_extension": ".py",
   "mimetype": "text/x-python",
   "name": "python",
   "nbconvert_exporter": "python",
   "pygments_lexer": "ipython2",
   "version": "2.7.6"
  }
 },
 "nbformat": 4,
 "nbformat_minor": 5
}
