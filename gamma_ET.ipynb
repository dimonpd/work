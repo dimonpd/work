{
 "cells": [
  {
   "metadata": {
    "collapsed": true,
    "ExecuteTime": {
     "end_time": "2024-09-12T18:09:34.315460Z",
     "start_time": "2024-09-12T18:09:34.297510Z"
    }
   },
   "cell_type": "code",
   "source": [
    "import pandas as pd\n",
    "import numpy as np \n",
    "import matplotlib.pyplot as plt\n",
    "import seaborn as sns\n",
    "\n",
    "sns.set_theme(style=\"whitegrid\")\n",
    "import warnings\n",
    "warnings.filterwarnings(\"ignore\", category=UserWarning, module=\"seaborn\")\n",
    "from sklearn.ensemble import RandomForestRegressor\n",
    "from sklearn.model_selection import train_test_split\n",
    "from sklearn.metrics import mean_absolute_error\n",
    "from sklearn.metrics import mean_squared_error"
   ],
   "id": "initial_id",
   "outputs": [],
   "execution_count": 315
  },
  {
   "metadata": {},
   "cell_type": "markdown",
   "source": "",
   "id": "b8b2f1883ad3f0b"
  },
  {
   "metadata": {},
   "cell_type": "markdown",
   "source": [
    "\n",
    " Чтение данных. Данные взяты из отчета [Дашбоард продаж AB](https://powerbi.data.lmru.tech/reports/powerbi/%D0%9E%D1%82%D1%87%D0%B5%D1%82%D1%8B%20Power%20BI/%D0%9B%D0%9C%20%D0%9F%D0%A0%D0%9E/%D0%94%D0%B0%D1%88%D0%B1%D0%BE%D1%80%D0%B4%20%D0%BF%D1%80%D0%BE%D0%B4%D0%B0%D0%B6%D0%B8%20%D0%90%D0%92). <br>\n",
    " Данные взяты только по продажам через b2b портал\n"
   ],
   "id": "be31e158dc03b71"
  },
  {
   "metadata": {},
   "cell_type": "markdown",
   "source": [
    "Описание данных \n",
    "- acive_clients - активная клиентская база\n",
    "- gmv - объём продаж , руб\n",
    "- gmv_per_customer - средний gmv на клиента \n",
    "- gmv_units - количество проданных единиц товара\n",
    "- average_bill - средний чек\n",
    "- number_orders - количество заказов\n",
    "- year - год\n",
    "- month - месяц\n",
    "- week - неделя\n",
    "- date - дата\n",
    "\n"
   ],
   "id": "54a83fde558ac900"
  },
  {
   "metadata": {
    "ExecuteTime": {
     "end_time": "2024-09-12T15:15:31.629644Z",
     "start_time": "2024-09-12T15:15:31.468897Z"
    }
   },
   "cell_type": "code",
   "outputs": [],
   "execution_count": 183,
   "source": [
    "gmv = pd.read_excel('et/gmv .xlsx', skiprows=2)\n",
    "active_clients = pd.read_excel('et/active_clients_base.xlsx', skiprows=2)\n",
    "gmv_per_customer = pd.read_excel('et/gmv_per_customer.xlsx', skiprows=2)\n",
    "gmv_units = pd.read_excel('et/gmv_units.xlsx', skiprows=2)\n",
    "average_bill = pd.read_excel('et/mean_check.xlsx', skiprows=2)\n",
    "number_orders = pd.read_excel('et/voluem_.orders.xlsx', skiprows=2)\n"
   ],
   "id": "1e6445235b495ffb"
  },
  {
   "metadata": {},
   "cell_type": "markdown",
   "source": "Информация о датафрейме",
   "id": "4314ef6203b00654"
  },
  {
   "metadata": {
    "ExecuteTime": {
     "end_time": "2024-09-12T15:15:33.354813Z",
     "start_time": "2024-09-12T15:15:33.349284Z"
    }
   },
   "cell_type": "code",
   "outputs": [
    {
     "name": "stdout",
     "output_type": "stream",
     "text": [
      "Тип данных: \n",
      "Год                    int64\n",
      "Месяц                float64\n",
      "Неделя                object\n",
      "Дата          datetime64[ns]\n",
      "Показатель           float64\n",
      "dtype: object\n",
      "Shape: (594, 5)\n",
      " Nan:\n",
      " Год           0\n",
      "Месяц         0\n",
      "Неделя        0\n",
      "Дата          0\n",
      "Показатель    0\n",
      "dtype: int64\n"
     ]
    }
   ],
   "execution_count": 184,
   "source": [
    "print(f'Тип данных: '\n",
    "      f'\\n{gmv.dtypes}'\n",
    "      f'\\nShape: {gmv.shape}'\n",
    "      f'\\n Nan:'\n",
    "      f'\\n {gmv.isna().sum()}')"
   ],
   "id": "5fb448b34c03498b"
  },
  {
   "metadata": {
    "ExecuteTime": {
     "end_time": "2024-09-12T15:15:33.525878Z",
     "start_time": "2024-09-12T15:15:33.509596Z"
    }
   },
   "cell_type": "code",
   "outputs": [
    {
     "data": {
      "text/plain": [
       "      Год    Месяц    Неделя       Дата  Показатель\n",
       "584  2024  2024.08  2024.w34 2024-08-22  5832042.50\n",
       "585  2024  2024.08  2024.w34 2024-08-23  5562394.46\n",
       "586  2024  2024.08  2024.w34 2024-08-24  2761331.70\n",
       "587  2024  2024.08  2024.w34 2024-08-25  2181533.39\n",
       "588  2024  2024.08  2024.w35 2024-08-26  4735097.24\n",
       "589  2024  2024.08  2024.w35 2024-08-27  6350600.56\n",
       "590  2024  2024.08  2024.w35 2024-08-28  6111320.69\n",
       "591  2024  2024.08  2024.w35 2024-08-29  6521139.29\n",
       "592  2024  2024.08  2024.w35 2024-08-30  5493522.97\n",
       "593  2024  2024.08  2024.w35 2024-08-31  2813324.65"
      ],
      "text/html": [
       "<div>\n",
       "<style scoped>\n",
       "    .dataframe tbody tr th:only-of-type {\n",
       "        vertical-align: middle;\n",
       "    }\n",
       "\n",
       "    .dataframe tbody tr th {\n",
       "        vertical-align: top;\n",
       "    }\n",
       "\n",
       "    .dataframe thead th {\n",
       "        text-align: right;\n",
       "    }\n",
       "</style>\n",
       "<table border=\"1\" class=\"dataframe\">\n",
       "  <thead>\n",
       "    <tr style=\"text-align: right;\">\n",
       "      <th></th>\n",
       "      <th>Год</th>\n",
       "      <th>Месяц</th>\n",
       "      <th>Неделя</th>\n",
       "      <th>Дата</th>\n",
       "      <th>Показатель</th>\n",
       "    </tr>\n",
       "  </thead>\n",
       "  <tbody>\n",
       "    <tr>\n",
       "      <th>584</th>\n",
       "      <td>2024</td>\n",
       "      <td>2024.08</td>\n",
       "      <td>2024.w34</td>\n",
       "      <td>2024-08-22</td>\n",
       "      <td>5832042.50</td>\n",
       "    </tr>\n",
       "    <tr>\n",
       "      <th>585</th>\n",
       "      <td>2024</td>\n",
       "      <td>2024.08</td>\n",
       "      <td>2024.w34</td>\n",
       "      <td>2024-08-23</td>\n",
       "      <td>5562394.46</td>\n",
       "    </tr>\n",
       "    <tr>\n",
       "      <th>586</th>\n",
       "      <td>2024</td>\n",
       "      <td>2024.08</td>\n",
       "      <td>2024.w34</td>\n",
       "      <td>2024-08-24</td>\n",
       "      <td>2761331.70</td>\n",
       "    </tr>\n",
       "    <tr>\n",
       "      <th>587</th>\n",
       "      <td>2024</td>\n",
       "      <td>2024.08</td>\n",
       "      <td>2024.w34</td>\n",
       "      <td>2024-08-25</td>\n",
       "      <td>2181533.39</td>\n",
       "    </tr>\n",
       "    <tr>\n",
       "      <th>588</th>\n",
       "      <td>2024</td>\n",
       "      <td>2024.08</td>\n",
       "      <td>2024.w35</td>\n",
       "      <td>2024-08-26</td>\n",
       "      <td>4735097.24</td>\n",
       "    </tr>\n",
       "    <tr>\n",
       "      <th>589</th>\n",
       "      <td>2024</td>\n",
       "      <td>2024.08</td>\n",
       "      <td>2024.w35</td>\n",
       "      <td>2024-08-27</td>\n",
       "      <td>6350600.56</td>\n",
       "    </tr>\n",
       "    <tr>\n",
       "      <th>590</th>\n",
       "      <td>2024</td>\n",
       "      <td>2024.08</td>\n",
       "      <td>2024.w35</td>\n",
       "      <td>2024-08-28</td>\n",
       "      <td>6111320.69</td>\n",
       "    </tr>\n",
       "    <tr>\n",
       "      <th>591</th>\n",
       "      <td>2024</td>\n",
       "      <td>2024.08</td>\n",
       "      <td>2024.w35</td>\n",
       "      <td>2024-08-29</td>\n",
       "      <td>6521139.29</td>\n",
       "    </tr>\n",
       "    <tr>\n",
       "      <th>592</th>\n",
       "      <td>2024</td>\n",
       "      <td>2024.08</td>\n",
       "      <td>2024.w35</td>\n",
       "      <td>2024-08-30</td>\n",
       "      <td>5493522.97</td>\n",
       "    </tr>\n",
       "    <tr>\n",
       "      <th>593</th>\n",
       "      <td>2024</td>\n",
       "      <td>2024.08</td>\n",
       "      <td>2024.w35</td>\n",
       "      <td>2024-08-31</td>\n",
       "      <td>2813324.65</td>\n",
       "    </tr>\n",
       "  </tbody>\n",
       "</table>\n",
       "</div>"
      ]
     },
     "execution_count": 185,
     "metadata": {},
     "output_type": "execute_result"
    }
   ],
   "execution_count": 185,
   "source": "gmv.tail(10)",
   "id": "f0c9caa74b5ef3d5"
  },
  {
   "metadata": {},
   "cell_type": "markdown",
   "source": "Заменим названия столбцов и агрегируем данные",
   "id": "6cbf645ff99969d"
  },
  {
   "metadata": {
    "ExecuteTime": {
     "end_time": "2024-09-12T15:15:34.225667Z",
     "start_time": "2024-09-12T15:15:34.213277Z"
    }
   },
   "cell_type": "code",
   "outputs": [],
   "execution_count": 186,
   "source": [
    "def rename_columns(df: pd.DataFrame) -> pd.DataFrame:\n",
    "    df_name = [k for k, v in globals().items() if id(v) == id(df)][0]\n",
    "    df.rename(columns={'Год' : 'year', 'Месяц' : 'month', 'Неделя' : 'week', 'Дата' : 'date', 'Показатель' : df_name}, inplace=True)\n",
    "    return df"
   ],
   "id": "e7c0718294685296"
  },
  {
   "metadata": {
    "ExecuteTime": {
     "end_time": "2024-09-12T15:15:35.502924Z",
     "start_time": "2024-09-12T15:15:35.484783Z"
    }
   },
   "cell_type": "code",
   "outputs": [
    {
     "data": {
      "text/plain": [
       "     year    month      week       date  number_orders\n",
       "0    2023  2023.01  2023.w02 2023-01-11              4\n",
       "1    2023  2023.01  2023.w02 2023-01-12              1\n",
       "2    2023  2023.01  2023.w02 2023-01-13              3\n",
       "3    2023  2023.01  2023.w03 2023-01-16              6\n",
       "4    2023  2023.01  2023.w03 2023-01-17             13\n",
       "..    ...      ...       ...        ...            ...\n",
       "589  2024  2024.08  2024.w35 2024-08-27            392\n",
       "590  2024  2024.08  2024.w35 2024-08-28            382\n",
       "591  2024  2024.08  2024.w35 2024-08-29            347\n",
       "592  2024  2024.08  2024.w35 2024-08-30            344\n",
       "593  2024  2024.08  2024.w35 2024-08-31            113\n",
       "\n",
       "[594 rows x 5 columns]"
      ],
      "text/html": [
       "<div>\n",
       "<style scoped>\n",
       "    .dataframe tbody tr th:only-of-type {\n",
       "        vertical-align: middle;\n",
       "    }\n",
       "\n",
       "    .dataframe tbody tr th {\n",
       "        vertical-align: top;\n",
       "    }\n",
       "\n",
       "    .dataframe thead th {\n",
       "        text-align: right;\n",
       "    }\n",
       "</style>\n",
       "<table border=\"1\" class=\"dataframe\">\n",
       "  <thead>\n",
       "    <tr style=\"text-align: right;\">\n",
       "      <th></th>\n",
       "      <th>year</th>\n",
       "      <th>month</th>\n",
       "      <th>week</th>\n",
       "      <th>date</th>\n",
       "      <th>number_orders</th>\n",
       "    </tr>\n",
       "  </thead>\n",
       "  <tbody>\n",
       "    <tr>\n",
       "      <th>0</th>\n",
       "      <td>2023</td>\n",
       "      <td>2023.01</td>\n",
       "      <td>2023.w02</td>\n",
       "      <td>2023-01-11</td>\n",
       "      <td>4</td>\n",
       "    </tr>\n",
       "    <tr>\n",
       "      <th>1</th>\n",
       "      <td>2023</td>\n",
       "      <td>2023.01</td>\n",
       "      <td>2023.w02</td>\n",
       "      <td>2023-01-12</td>\n",
       "      <td>1</td>\n",
       "    </tr>\n",
       "    <tr>\n",
       "      <th>2</th>\n",
       "      <td>2023</td>\n",
       "      <td>2023.01</td>\n",
       "      <td>2023.w02</td>\n",
       "      <td>2023-01-13</td>\n",
       "      <td>3</td>\n",
       "    </tr>\n",
       "    <tr>\n",
       "      <th>3</th>\n",
       "      <td>2023</td>\n",
       "      <td>2023.01</td>\n",
       "      <td>2023.w03</td>\n",
       "      <td>2023-01-16</td>\n",
       "      <td>6</td>\n",
       "    </tr>\n",
       "    <tr>\n",
       "      <th>4</th>\n",
       "      <td>2023</td>\n",
       "      <td>2023.01</td>\n",
       "      <td>2023.w03</td>\n",
       "      <td>2023-01-17</td>\n",
       "      <td>13</td>\n",
       "    </tr>\n",
       "    <tr>\n",
       "      <th>...</th>\n",
       "      <td>...</td>\n",
       "      <td>...</td>\n",
       "      <td>...</td>\n",
       "      <td>...</td>\n",
       "      <td>...</td>\n",
       "    </tr>\n",
       "    <tr>\n",
       "      <th>589</th>\n",
       "      <td>2024</td>\n",
       "      <td>2024.08</td>\n",
       "      <td>2024.w35</td>\n",
       "      <td>2024-08-27</td>\n",
       "      <td>392</td>\n",
       "    </tr>\n",
       "    <tr>\n",
       "      <th>590</th>\n",
       "      <td>2024</td>\n",
       "      <td>2024.08</td>\n",
       "      <td>2024.w35</td>\n",
       "      <td>2024-08-28</td>\n",
       "      <td>382</td>\n",
       "    </tr>\n",
       "    <tr>\n",
       "      <th>591</th>\n",
       "      <td>2024</td>\n",
       "      <td>2024.08</td>\n",
       "      <td>2024.w35</td>\n",
       "      <td>2024-08-29</td>\n",
       "      <td>347</td>\n",
       "    </tr>\n",
       "    <tr>\n",
       "      <th>592</th>\n",
       "      <td>2024</td>\n",
       "      <td>2024.08</td>\n",
       "      <td>2024.w35</td>\n",
       "      <td>2024-08-30</td>\n",
       "      <td>344</td>\n",
       "    </tr>\n",
       "    <tr>\n",
       "      <th>593</th>\n",
       "      <td>2024</td>\n",
       "      <td>2024.08</td>\n",
       "      <td>2024.w35</td>\n",
       "      <td>2024-08-31</td>\n",
       "      <td>113</td>\n",
       "    </tr>\n",
       "  </tbody>\n",
       "</table>\n",
       "<p>594 rows × 5 columns</p>\n",
       "</div>"
      ]
     },
     "execution_count": 187,
     "metadata": {},
     "output_type": "execute_result"
    }
   ],
   "execution_count": 187,
   "source": [
    "rename_columns(gmv)\n",
    "rename_columns(active_clients)\n",
    "rename_columns(gmv_per_customer)\n",
    "rename_columns(gmv_units)\n",
    "rename_columns(average_bill)\n",
    "rename_columns(number_orders)"
   ],
   "id": "7463a479fe3e84ca"
  },
  {
   "metadata": {
    "ExecuteTime": {
     "end_time": "2024-09-12T15:15:41.526593Z",
     "start_time": "2024-09-12T15:15:41.515996Z"
    }
   },
   "cell_type": "code",
   "outputs": [],
   "execution_count": 188,
   "source": "df_merged = pd.merge(active_clients, gmv, on=['year','month','week','date'], how='outer')",
   "id": "9234e54ea391f4d5"
  },
  {
   "metadata": {
    "ExecuteTime": {
     "end_time": "2024-09-12T15:15:45.695997Z",
     "start_time": "2024-09-12T15:15:45.681934Z"
    }
   },
   "cell_type": "code",
   "outputs": [],
   "execution_count": 189,
   "source": [
    "df_merged = pd.merge(df_merged, gmv_per_customer, on=['year','month','week','date'], how='outer')\n",
    "df_merged = pd.merge(df_merged, gmv_units, on=['year','month','week','date'], how='outer')\n",
    "df_merged = pd.merge(df_merged, average_bill, on=['year','month','week','date'], how='outer')\n",
    "df_merged = pd.merge(df_merged, number_orders, on=['year','month','week','date'], how='outer')"
   ],
   "id": "170a1f0f311b410a"
  },
  {
   "metadata": {},
   "cell_type": "markdown",
   "source": "",
   "id": "5e5bd73508208514"
  },
  {
   "metadata": {
    "ExecuteTime": {
     "end_time": "2024-09-12T15:15:48.520563Z",
     "start_time": "2024-09-12T15:15:48.514039Z"
    }
   },
   "cell_type": "code",
   "outputs": [
    {
     "data": {
      "text/plain": [
       "   year    month      week       date  active_clients       gmv  \\\n",
       "0  2023  2023.01  2023.w02 2023-01-11               3   49960.0   \n",
       "1  2023  2023.01  2023.w02 2023-01-12               1    3905.0   \n",
       "2  2023  2023.01  2023.w02 2023-01-13               2   23048.0   \n",
       "3  2023  2023.01  2023.w03 2023-01-16               4   65217.0   \n",
       "4  2023  2023.01  2023.w03 2023-01-17               5  187437.0   \n",
       "\n",
       "   gmv_per_customer  gmv_units  average_bill  number_orders  \n",
       "0      16653.333333       59.0  12490.000000              4  \n",
       "1       3905.000000       27.0   3905.000000              1  \n",
       "2      11524.000000      199.0   7682.666667              3  \n",
       "3      16304.250000      161.0  10869.500000              6  \n",
       "4      37487.400000      642.0  14418.230769             13  "
      ],
      "text/html": [
       "<div>\n",
       "<style scoped>\n",
       "    .dataframe tbody tr th:only-of-type {\n",
       "        vertical-align: middle;\n",
       "    }\n",
       "\n",
       "    .dataframe tbody tr th {\n",
       "        vertical-align: top;\n",
       "    }\n",
       "\n",
       "    .dataframe thead th {\n",
       "        text-align: right;\n",
       "    }\n",
       "</style>\n",
       "<table border=\"1\" class=\"dataframe\">\n",
       "  <thead>\n",
       "    <tr style=\"text-align: right;\">\n",
       "      <th></th>\n",
       "      <th>year</th>\n",
       "      <th>month</th>\n",
       "      <th>week</th>\n",
       "      <th>date</th>\n",
       "      <th>active_clients</th>\n",
       "      <th>gmv</th>\n",
       "      <th>gmv_per_customer</th>\n",
       "      <th>gmv_units</th>\n",
       "      <th>average_bill</th>\n",
       "      <th>number_orders</th>\n",
       "    </tr>\n",
       "  </thead>\n",
       "  <tbody>\n",
       "    <tr>\n",
       "      <th>0</th>\n",
       "      <td>2023</td>\n",
       "      <td>2023.01</td>\n",
       "      <td>2023.w02</td>\n",
       "      <td>2023-01-11</td>\n",
       "      <td>3</td>\n",
       "      <td>49960.0</td>\n",
       "      <td>16653.333333</td>\n",
       "      <td>59.0</td>\n",
       "      <td>12490.000000</td>\n",
       "      <td>4</td>\n",
       "    </tr>\n",
       "    <tr>\n",
       "      <th>1</th>\n",
       "      <td>2023</td>\n",
       "      <td>2023.01</td>\n",
       "      <td>2023.w02</td>\n",
       "      <td>2023-01-12</td>\n",
       "      <td>1</td>\n",
       "      <td>3905.0</td>\n",
       "      <td>3905.000000</td>\n",
       "      <td>27.0</td>\n",
       "      <td>3905.000000</td>\n",
       "      <td>1</td>\n",
       "    </tr>\n",
       "    <tr>\n",
       "      <th>2</th>\n",
       "      <td>2023</td>\n",
       "      <td>2023.01</td>\n",
       "      <td>2023.w02</td>\n",
       "      <td>2023-01-13</td>\n",
       "      <td>2</td>\n",
       "      <td>23048.0</td>\n",
       "      <td>11524.000000</td>\n",
       "      <td>199.0</td>\n",
       "      <td>7682.666667</td>\n",
       "      <td>3</td>\n",
       "    </tr>\n",
       "    <tr>\n",
       "      <th>3</th>\n",
       "      <td>2023</td>\n",
       "      <td>2023.01</td>\n",
       "      <td>2023.w03</td>\n",
       "      <td>2023-01-16</td>\n",
       "      <td>4</td>\n",
       "      <td>65217.0</td>\n",
       "      <td>16304.250000</td>\n",
       "      <td>161.0</td>\n",
       "      <td>10869.500000</td>\n",
       "      <td>6</td>\n",
       "    </tr>\n",
       "    <tr>\n",
       "      <th>4</th>\n",
       "      <td>2023</td>\n",
       "      <td>2023.01</td>\n",
       "      <td>2023.w03</td>\n",
       "      <td>2023-01-17</td>\n",
       "      <td>5</td>\n",
       "      <td>187437.0</td>\n",
       "      <td>37487.400000</td>\n",
       "      <td>642.0</td>\n",
       "      <td>14418.230769</td>\n",
       "      <td>13</td>\n",
       "    </tr>\n",
       "  </tbody>\n",
       "</table>\n",
       "</div>"
      ]
     },
     "execution_count": 190,
     "metadata": {},
     "output_type": "execute_result"
    }
   ],
   "execution_count": 190,
   "source": "df_merged.head()",
   "id": "6ef3ccdccfb2f4c"
  },
  {
   "metadata": {
    "ExecuteTime": {
     "end_time": "2024-09-12T15:15:49.111412Z",
     "start_time": "2024-09-12T15:15:49.094887Z"
    }
   },
   "cell_type": "code",
   "source": [
    "print(f'Тип данных: '\n",
    "      f'\\n{df_merged.dtypes}'\n",
    "      f'\\nShape: {df_merged.shape}'\n",
    "      f'\\n Nan:'\n",
    "      f'\\n {df_merged.isna().sum()}')"
   ],
   "id": "99a0e36b6fb8d088",
   "outputs": [
    {
     "name": "stdout",
     "output_type": "stream",
     "text": [
      "Тип данных: \n",
      "year                         int64\n",
      "month                      float64\n",
      "week                        object\n",
      "date                datetime64[ns]\n",
      "active_clients               int64\n",
      "gmv                        float64\n",
      "gmv_per_customer           float64\n",
      "gmv_units                  float64\n",
      "average_bill               float64\n",
      "number_orders                int64\n",
      "dtype: object\n",
      "Shape: (594, 10)\n",
      " Nan:\n",
      " year                0\n",
      "month               0\n",
      "week                0\n",
      "date                0\n",
      "active_clients      0\n",
      "gmv                 0\n",
      "gmv_per_customer    0\n",
      "gmv_units           0\n",
      "average_bill        0\n",
      "number_orders       0\n",
      "dtype: int64\n"
     ]
    }
   ],
   "execution_count": 191
  },
  {
   "metadata": {
    "ExecuteTime": {
     "end_time": "2024-09-12T15:29:58.543539Z",
     "start_time": "2024-09-12T15:29:58.520085Z"
    }
   },
   "cell_type": "code",
   "source": "df_merged.describe().T",
   "id": "af8b2d014b419d76",
   "outputs": [
    {
     "data": {
      "text/plain": [
       "                  count                           mean                  min  \\\n",
       "year              594.0                    2023.409091               2023.0   \n",
       "month             594.0                    2023.467492              2023.01   \n",
       "date                594  2023-11-07 20:55:45.454545408  2023-01-11 00:00:00   \n",
       "active_clients    594.0                      74.698653                  1.0   \n",
       "gmv               594.0                 2383888.694259               1266.0   \n",
       "gmv_per_customer  594.0                   30739.952853               1266.0   \n",
       "gmv_units         594.0                    7579.464508                  2.0   \n",
       "average_bill      594.0                   19286.909409               1266.0   \n",
       "number_orders     594.0                     130.260943                  1.0   \n",
       "\n",
       "                                  25%                  50%  \\\n",
       "year                           2023.0               2023.0   \n",
       "month                         2023.06              2023.11   \n",
       "date              2023-06-12 06:00:00  2023-11-07 12:00:00   \n",
       "active_clients                   28.0                 64.5   \n",
       "gmv                       828349.4325          2004397.035   \n",
       "gmv_per_customer         25494.477724         30490.367891   \n",
       "gmv_units                     2613.75               6435.0   \n",
       "average_bill             15528.852814         17976.183425   \n",
       "number_orders                    42.0                106.0   \n",
       "\n",
       "                                  75%                  max             std  \n",
       "year                           2024.0               2024.0         0.49208  \n",
       "month                         2024.04              2024.08        0.482083  \n",
       "date              2024-04-04 18:00:00  2024-08-31 00:00:00             NaN  \n",
       "active_clients                  113.0                198.0        52.83164  \n",
       "gmv                       3569723.235           7859251.65  1838354.235018  \n",
       "gmv_per_customer          35519.47402           117388.275    10726.628085  \n",
       "gmv_units                    11411.75              44383.0     5970.139033  \n",
       "average_bill             21431.428118          92224.03625      7504.60685  \n",
       "number_orders                  203.75                392.0      101.595373  "
      ],
      "text/html": [
       "<div>\n",
       "<style scoped>\n",
       "    .dataframe tbody tr th:only-of-type {\n",
       "        vertical-align: middle;\n",
       "    }\n",
       "\n",
       "    .dataframe tbody tr th {\n",
       "        vertical-align: top;\n",
       "    }\n",
       "\n",
       "    .dataframe thead th {\n",
       "        text-align: right;\n",
       "    }\n",
       "</style>\n",
       "<table border=\"1\" class=\"dataframe\">\n",
       "  <thead>\n",
       "    <tr style=\"text-align: right;\">\n",
       "      <th></th>\n",
       "      <th>count</th>\n",
       "      <th>mean</th>\n",
       "      <th>min</th>\n",
       "      <th>25%</th>\n",
       "      <th>50%</th>\n",
       "      <th>75%</th>\n",
       "      <th>max</th>\n",
       "      <th>std</th>\n",
       "    </tr>\n",
       "  </thead>\n",
       "  <tbody>\n",
       "    <tr>\n",
       "      <th>year</th>\n",
       "      <td>594.0</td>\n",
       "      <td>2023.409091</td>\n",
       "      <td>2023.0</td>\n",
       "      <td>2023.0</td>\n",
       "      <td>2023.0</td>\n",
       "      <td>2024.0</td>\n",
       "      <td>2024.0</td>\n",
       "      <td>0.49208</td>\n",
       "    </tr>\n",
       "    <tr>\n",
       "      <th>month</th>\n",
       "      <td>594.0</td>\n",
       "      <td>2023.467492</td>\n",
       "      <td>2023.01</td>\n",
       "      <td>2023.06</td>\n",
       "      <td>2023.11</td>\n",
       "      <td>2024.04</td>\n",
       "      <td>2024.08</td>\n",
       "      <td>0.482083</td>\n",
       "    </tr>\n",
       "    <tr>\n",
       "      <th>date</th>\n",
       "      <td>594</td>\n",
       "      <td>2023-11-07 20:55:45.454545408</td>\n",
       "      <td>2023-01-11 00:00:00</td>\n",
       "      <td>2023-06-12 06:00:00</td>\n",
       "      <td>2023-11-07 12:00:00</td>\n",
       "      <td>2024-04-04 18:00:00</td>\n",
       "      <td>2024-08-31 00:00:00</td>\n",
       "      <td>NaN</td>\n",
       "    </tr>\n",
       "    <tr>\n",
       "      <th>active_clients</th>\n",
       "      <td>594.0</td>\n",
       "      <td>74.698653</td>\n",
       "      <td>1.0</td>\n",
       "      <td>28.0</td>\n",
       "      <td>64.5</td>\n",
       "      <td>113.0</td>\n",
       "      <td>198.0</td>\n",
       "      <td>52.83164</td>\n",
       "    </tr>\n",
       "    <tr>\n",
       "      <th>gmv</th>\n",
       "      <td>594.0</td>\n",
       "      <td>2383888.694259</td>\n",
       "      <td>1266.0</td>\n",
       "      <td>828349.4325</td>\n",
       "      <td>2004397.035</td>\n",
       "      <td>3569723.235</td>\n",
       "      <td>7859251.65</td>\n",
       "      <td>1838354.235018</td>\n",
       "    </tr>\n",
       "    <tr>\n",
       "      <th>gmv_per_customer</th>\n",
       "      <td>594.0</td>\n",
       "      <td>30739.952853</td>\n",
       "      <td>1266.0</td>\n",
       "      <td>25494.477724</td>\n",
       "      <td>30490.367891</td>\n",
       "      <td>35519.47402</td>\n",
       "      <td>117388.275</td>\n",
       "      <td>10726.628085</td>\n",
       "    </tr>\n",
       "    <tr>\n",
       "      <th>gmv_units</th>\n",
       "      <td>594.0</td>\n",
       "      <td>7579.464508</td>\n",
       "      <td>2.0</td>\n",
       "      <td>2613.75</td>\n",
       "      <td>6435.0</td>\n",
       "      <td>11411.75</td>\n",
       "      <td>44383.0</td>\n",
       "      <td>5970.139033</td>\n",
       "    </tr>\n",
       "    <tr>\n",
       "      <th>average_bill</th>\n",
       "      <td>594.0</td>\n",
       "      <td>19286.909409</td>\n",
       "      <td>1266.0</td>\n",
       "      <td>15528.852814</td>\n",
       "      <td>17976.183425</td>\n",
       "      <td>21431.428118</td>\n",
       "      <td>92224.03625</td>\n",
       "      <td>7504.60685</td>\n",
       "    </tr>\n",
       "    <tr>\n",
       "      <th>number_orders</th>\n",
       "      <td>594.0</td>\n",
       "      <td>130.260943</td>\n",
       "      <td>1.0</td>\n",
       "      <td>42.0</td>\n",
       "      <td>106.0</td>\n",
       "      <td>203.75</td>\n",
       "      <td>392.0</td>\n",
       "      <td>101.595373</td>\n",
       "    </tr>\n",
       "  </tbody>\n",
       "</table>\n",
       "</div>"
      ]
     },
     "execution_count": 194,
     "metadata": {},
     "output_type": "execute_result"
    }
   ],
   "execution_count": 194
  },
  {
   "metadata": {
    "ExecuteTime": {
     "end_time": "2024-09-12T17:33:12.074807Z",
     "start_time": "2024-09-12T17:33:11.465890Z"
    }
   },
   "cell_type": "code",
   "source": "sns.displot(data=df_merged, x=\"gmv_per_customer\", kde=True, col=\"year\", col_wrap=3)\n",
   "id": "148a030d97cd50f1",
   "outputs": [
    {
     "data": {
      "text/plain": [
       "<seaborn.axisgrid.FacetGrid at 0x28914507a90>"
      ]
     },
     "execution_count": 313,
     "metadata": {},
     "output_type": "execute_result"
    },
    {
     "data": {
      "text/plain": [
       "<Figure size 1500x500 with 2 Axes>"
      ],
      "image/png": "[encoded data removed]"
     },
     "metadata": {},
     "output_type": "display_data"
    }
   ],
   "execution_count": 313
  },
  {
   "metadata": {},
   "cell_type": "code",
   "outputs": [],
   "execution_count": null,
   "source": "",
   "id": "933b0da8e1b05c1e"
  },
  {
   "metadata": {
    "ExecuteTime": {
     "end_time": "2024-09-12T16:12:41.994722Z",
     "start_time": "2024-09-12T16:12:41.978135Z"
    }
   },
   "cell_type": "code",
   "source": "df_merged.columns.to_list()",
   "id": "de8f1a627adac84",
   "outputs": [
    {
     "data": {
      "text/plain": [
       "['year',\n",
       " 'month',\n",
       " 'week',\n",
       " 'date',\n",
       " 'active_clients',\n",
       " 'gmv',\n",
       " 'gmv_per_customer',\n",
       " 'gmv_units',\n",
       " 'average_bill',\n",
       " 'number_orders']"
      ]
     },
     "execution_count": 260,
     "metadata": {},
     "output_type": "execute_result"
    }
   ],
   "execution_count": 260
  },
  {
   "metadata": {},
   "cell_type": "markdown",
   "source": "Получим массив признаков и разобьем на тестовую и обучающую выборки",
   "id": "32930828b9dd9d61"
  },
  {
   "metadata": {
    "ExecuteTime": {
     "end_time": "2024-09-12T17:33:19.033459Z",
     "start_time": "2024-09-12T17:33:19.027257Z"
    }
   },
   "cell_type": "code",
   "source": "X.dtypes",
   "id": "1f6f73582bc4286d",
   "outputs": [
    {
     "data": {
      "text/plain": [
       "active_clients        int64\n",
       "gmv_per_customer    float64\n",
       "gmv_units           float64\n",
       "average_bill        float64\n",
       "number_orders         int64\n",
       "dtype: object"
      ]
     },
     "execution_count": 314,
     "metadata": {},
     "output_type": "execute_result"
    }
   ],
   "execution_count": 314
  },
  {
   "metadata": {
    "ExecuteTime": {
     "end_time": "2024-09-12T16:21:20.471504Z",
     "start_time": "2024-09-12T16:21:20.454225Z"
    }
   },
   "cell_type": "code",
   "source": "X = df_merged[['active_clients', 'gmv_per_customer', 'gmv_units', 'average_bill', 'number_orders']]",
   "id": "4058b57579511e8c",
   "outputs": [],
   "execution_count": 263
  },
  {
   "metadata": {
    "ExecuteTime": {
     "end_time": "2024-09-12T16:21:22.315429Z",
     "start_time": "2024-09-12T16:21:22.309691Z"
    }
   },
   "cell_type": "code",
   "source": "y = df_merged['gmv']",
   "id": "4456aa2f4f33eb0e",
   "outputs": [],
   "execution_count": 264
  },
  {
   "metadata": {
    "ExecuteTime": {
     "end_time": "2024-09-12T16:35:17.011609Z",
     "start_time": "2024-09-12T16:35:16.994075Z"
    }
   },
   "cell_type": "code",
   "source": "X_train, X_test, y_train, y_test = train_test_split(X, y, test_size=0.2, random_state=42)",
   "id": "6b4f5ee69f5c63d2",
   "outputs": [],
   "execution_count": 282
  },
  {
   "metadata": {
    "ExecuteTime": {
     "end_time": "2024-09-12T16:35:25.569025Z",
     "start_time": "2024-09-12T16:35:25.559417Z"
    }
   },
   "cell_type": "code",
   "source": "rf = RandomForestRegressor(n_estimators=100, random_state=42)",
   "id": "c567fa07c2227f84",
   "outputs": [],
   "execution_count": 284
  },
  {
   "metadata": {
    "ExecuteTime": {
     "end_time": "2024-09-12T16:37:05.697712Z",
     "start_time": "2024-09-12T16:37:05.490283Z"
    }
   },
   "cell_type": "code",
   "source": "rf.fit(X_train, y_train)",
   "id": "b04993caab6febd1",
   "outputs": [
    {
     "data": {
      "text/plain": [
       "RandomForestRegressor(random_state=42)"
      ],
      "text/html": [
       "<style>#sk-container-id-1 {color: black;}#sk-container-id-1 pre{padding: 0;}#sk-container-id-1 div.sk-toggleable {background-color: white;}#sk-container-id-1 label.sk-toggleable__label {cursor: pointer;display: block;width: 100%;margin-bottom: 0;padding: 0.3em;box-sizing: border-box;text-align: center;}#sk-container-id-1 label.sk-toggleable__label-arrow:before {content: \"▸\";float: left;margin-right: 0.25em;color: #696969;}#sk-container-id-1 label.sk-toggleable__label-arrow:hover:before {color: black;}#sk-container-id-1 div.sk-estimator:hover label.sk-toggleable__label-arrow:before {color: black;}#sk-container-id-1 div.sk-toggleable__content {max-height: 0;max-width: 0;overflow: hidden;text-align: left;background-color: #f0f8ff;}#sk-container-id-1 div.sk-toggleable__content pre {margin: 0.2em;color: black;border-radius: 0.25em;background-color: #f0f8ff;}#sk-container-id-1 input.sk-toggleable__control:checked~div.sk-toggleable__content {max-height: 200px;max-width: 100%;overflow: auto;}#sk-container-id-1 input.sk-toggleable__control:checked~label.sk-toggleable__label-arrow:before {content: \"▾\";}#sk-container-id-1 div.sk-estimator input.sk-toggleable__control:checked~label.sk-toggleable__label {background-color: #d4ebff;}#sk-container-id-1 div.sk-label input.sk-toggleable__control:checked~label.sk-toggleable__label {background-color: #d4ebff;}#sk-container-id-1 input.sk-hidden--visually {border: 0;clip: rect(1px 1px 1px 1px);clip: rect(1px, 1px, 1px, 1px);height: 1px;margin: -1px;overflow: hidden;padding: 0;position: absolute;width: 1px;}#sk-container-id-1 div.sk-estimator {font-family: monospace;background-color: #f0f8ff;border: 1px dotted black;border-radius: 0.25em;box-sizing: border-box;margin-bottom: 0.5em;}#sk-container-id-1 div.sk-estimator:hover {background-color: #d4ebff;}#sk-container-id-1 div.sk-parallel-item::after {content: \"\";width: 100%;border-bottom: 1px solid gray;flex-grow: 1;}#sk-container-id-1 div.sk-label:hover label.sk-toggleable__label {background-color: #d4ebff;}#sk-container-id-1 div.sk-serial::before {content: \"\";position: absolute;border-left: 1px solid gray;box-sizing: border-box;top: 0;bottom: 0;left: 50%;z-index: 0;}#sk-container-id-1 div.sk-serial {display: flex;flex-direction: column;align-items: center;background-color: white;padding-right: 0.2em;padding-left: 0.2em;position: relative;}#sk-container-id-1 div.sk-item {position: relative;z-index: 1;}#sk-container-id-1 div.sk-parallel {display: flex;align-items: stretch;justify-content: center;background-color: white;position: relative;}#sk-container-id-1 div.sk-item::before, #sk-container-id-1 div.sk-parallel-item::before {content: \"\";position: absolute;border-left: 1px solid gray;box-sizing: border-box;top: 0;bottom: 0;left: 50%;z-index: -1;}#sk-container-id-1 div.sk-parallel-item {display: flex;flex-direction: column;z-index: 1;position: relative;background-color: white;}#sk-container-id-1 div.sk-parallel-item:first-child::after {align-self: flex-end;width: 50%;}#sk-container-id-1 div.sk-parallel-item:last-child::after {align-self: flex-start;width: 50%;}#sk-container-id-1 div.sk-parallel-item:only-child::after {width: 0;}#sk-container-id-1 div.sk-dashed-wrapped {border: 1px dashed gray;margin: 0 0.4em 0.5em 0.4em;box-sizing: border-box;padding-bottom: 0.4em;background-color: white;}#sk-container-id-1 div.sk-label label {font-family: monospace;font-weight: bold;display: inline-block;line-height: 1.2em;}#sk-container-id-1 div.sk-label-container {text-align: center;}#sk-container-id-1 div.sk-container {/* jupyter's `normalize.less` sets `[hidden] { display: none; }` but bootstrap.min.css set `[hidden] { display: none !important; }` so we also need the `!important` here to be able to override the default hidden behavior on the sphinx rendered scikit-learn.org. See: https://github.com/scikit-learn/scikit-learn/issues/21755 */display: inline-block !important;position: relative;}#sk-container-id-1 div.sk-text-repr-fallback {display: none;}</style><div id=\"sk-container-id-1\" class=\"sk-top-container\"><div class=\"sk-text-repr-fallback\"><pre>RandomForestRegressor(random_state=42)</pre><b>In a Jupyter environment, please rerun this cell to show the HTML representation or trust the notebook. <br />On GitHub, the HTML representation is unable to render, please try loading this page with nbviewer.org.</b></div><div class=\"sk-container\" hidden><div class=\"sk-item\"><div class=\"sk-estimator sk-toggleable\"><input class=\"sk-toggleable__control sk-hidden--visually\" id=\"sk-estimator-id-1\" type=\"checkbox\" checked><label for=\"sk-estimator-id-1\" class=\"sk-toggleable__label sk-toggleable__label-arrow\">RandomForestRegressor</label><div class=\"sk-toggleable__content\"><pre>RandomForestRegressor(random_state=42)</pre></div></div></div></div></div>"
      ]
     },
     "execution_count": 286,
     "metadata": {},
     "output_type": "execute_result"
    }
   ],
   "execution_count": 286
  },
  {
   "metadata": {
    "ExecuteTime": {
     "end_time": "2024-09-12T16:37:05.991796Z",
     "start_time": "2024-09-12T16:37:05.971399Z"
    }
   },
   "cell_type": "code",
   "source": "y_pred = rf.predict(X_test)",
   "id": "de216c83f4f7ad62",
   "outputs": [],
   "execution_count": 287
  },
  {
   "metadata": {},
   "cell_type": "markdown",
   "source": "Метрики оценки модели",
   "id": "77a81521853ad657"
  },
  {
   "metadata": {
    "ExecuteTime": {
     "end_time": "2024-09-12T16:37:06.755206Z",
     "start_time": "2024-09-12T16:37:06.751014Z"
    }
   },
   "cell_type": "code",
   "source": [
    "mse = mean_squared_error(y_test, y_pred)\n",
    "print(f'MSE: {mse:.2f}')"
   ],
   "id": "d6fbe55090c31cb8",
   "outputs": [
    {
     "name": "stdout",
     "output_type": "stream",
     "text": [
      "MSE: 19717146543.94\n"
     ]
    }
   ],
   "execution_count": 288
  },
  {
   "metadata": {
    "ExecuteTime": {
     "end_time": "2024-09-12T16:56:58.841342Z",
     "start_time": "2024-09-12T16:56:58.832470Z"
    }
   },
   "cell_type": "code",
   "source": "print(f'R-squared: {rf.score(X_test, y_test):.2f}')\n",
   "id": "cf1abdc9abcf6ba8",
   "outputs": [
    {
     "name": "stdout",
     "output_type": "stream",
     "text": [
      "R-squared: 0.99\n"
     ]
    }
   ],
   "execution_count": 297
  },
  {
   "metadata": {
    "ExecuteTime": {
     "end_time": "2024-09-12T16:59:02.338749Z",
     "start_time": "2024-09-12T16:59:02.323306Z"
    }
   },
   "cell_type": "code",
   "source": [
    "mae = mean_absolute_error(y_test, y_pred)\n",
    "print(f'MAE: {mae:.2f}') # Mean Absolute Error (mae)"
   ],
   "id": "667877435b828117",
   "outputs": [
    {
     "name": "stdout",
     "output_type": "stream",
     "text": [
      "MAE: 93542.14\n"
     ]
    }
   ],
   "execution_count": 300
  },
  {
   "metadata": {
    "ExecuteTime": {
     "end_time": "2024-09-12T17:02:06.089540Z",
     "start_time": "2024-09-12T17:02:06.074127Z"
    }
   },
   "cell_type": "code",
   "source": "df_merged.loc[df_merged['year'] == 2024].sort_values(by='date', ascending=False).head(3)",
   "id": "895008b27b0da92f",
   "outputs": [
    {
     "data": {
      "text/plain": [
       "     year    month      week       date  active_clients         gmv  \\\n",
       "593  2024  2024.08  2024.w35 2024-08-31              68  2813324.65   \n",
       "592  2024  2024.08  2024.w35 2024-08-30             168  5493522.97   \n",
       "591  2024  2024.08  2024.w35 2024-08-29             175  6521139.29   \n",
       "\n",
       "     gmv_per_customer  gmv_units  average_bill  number_orders  \n",
       "593      41372.421324     5760.0  24896.678319            113  \n",
       "592      32699.541488    17560.8  16394.817442            344  \n",
       "591      37263.653086    16297.5  18862.103718            347  "
      ],
      "text/html": [
       "<div>\n",
       "<style scoped>\n",
       "    .dataframe tbody tr th:only-of-type {\n",
       "        vertical-align: middle;\n",
       "    }\n",
       "\n",
       "    .dataframe tbody tr th {\n",
       "        vertical-align: top;\n",
       "    }\n",
       "\n",
       "    .dataframe thead th {\n",
       "        text-align: right;\n",
       "    }\n",
       "</style>\n",
       "<table border=\"1\" class=\"dataframe\">\n",
       "  <thead>\n",
       "    <tr style=\"text-align: right;\">\n",
       "      <th></th>\n",
       "      <th>year</th>\n",
       "      <th>month</th>\n",
       "      <th>week</th>\n",
       "      <th>date</th>\n",
       "      <th>active_clients</th>\n",
       "      <th>gmv</th>\n",
       "      <th>gmv_per_customer</th>\n",
       "      <th>gmv_units</th>\n",
       "      <th>average_bill</th>\n",
       "      <th>number_orders</th>\n",
       "    </tr>\n",
       "  </thead>\n",
       "  <tbody>\n",
       "    <tr>\n",
       "      <th>593</th>\n",
       "      <td>2024</td>\n",
       "      <td>2024.08</td>\n",
       "      <td>2024.w35</td>\n",
       "      <td>2024-08-31</td>\n",
       "      <td>68</td>\n",
       "      <td>2813324.65</td>\n",
       "      <td>41372.421324</td>\n",
       "      <td>5760.0</td>\n",
       "      <td>24896.678319</td>\n",
       "      <td>113</td>\n",
       "    </tr>\n",
       "    <tr>\n",
       "      <th>592</th>\n",
       "      <td>2024</td>\n",
       "      <td>2024.08</td>\n",
       "      <td>2024.w35</td>\n",
       "      <td>2024-08-30</td>\n",
       "      <td>168</td>\n",
       "      <td>5493522.97</td>\n",
       "      <td>32699.541488</td>\n",
       "      <td>17560.8</td>\n",
       "      <td>16394.817442</td>\n",
       "      <td>344</td>\n",
       "    </tr>\n",
       "    <tr>\n",
       "      <th>591</th>\n",
       "      <td>2024</td>\n",
       "      <td>2024.08</td>\n",
       "      <td>2024.w35</td>\n",
       "      <td>2024-08-29</td>\n",
       "      <td>175</td>\n",
       "      <td>6521139.29</td>\n",
       "      <td>37263.653086</td>\n",
       "      <td>16297.5</td>\n",
       "      <td>18862.103718</td>\n",
       "      <td>347</td>\n",
       "    </tr>\n",
       "  </tbody>\n",
       "</table>\n",
       "</div>"
      ]
     },
     "execution_count": 301,
     "metadata": {},
     "output_type": "execute_result"
    }
   ],
   "execution_count": 301
  },
  {
   "metadata": {},
   "cell_type": "markdown",
   "source": "Предсказание прогноза с помощью новых данных",
   "id": "27b39eea89402bbe"
  },
  {
   "metadata": {
    "ExecuteTime": {
     "end_time": "2024-09-12T18:18:02.481855Z",
     "start_time": "2024-09-12T18:18:02.470023Z"
    }
   },
   "cell_type": "code",
   "source": [
    "new_data = pd.DataFrame({'active_clients': [100], 'gmv_per_customer': [45000], 'gmv_units': [6000], 'average_bill': [26000], 'number_orders': [120]})\n",
    "new_pred = rf.predict(new_data)\n",
    "print(f'Прогноз  значения GMV: {new_pred[0]:.2f}')"
   ],
   "id": "4286800b741519d1",
   "outputs": [
    {
     "name": "stdout",
     "output_type": "stream",
     "text": [
      "Прогноз  значения GMV: 3371820.63\n"
     ]
    }
   ],
   "execution_count": 317
  },
  {
   "metadata": {
    "ExecuteTime": {
     "end_time": "2024-09-12T17:33:32.549373Z",
     "start_time": "2024-09-12T17:33:32.539462Z"
    }
   },
   "cell_type": "code",
   "source": "",
   "id": "bf2ad67914253b4f",
   "outputs": [],
   "execution_count": null
  }
 ],
 "metadata": {
  "kernelspec": {
   "display_name": "Python 3",
   "language": "python",
   "name": "python3"
  },
  "language_info": {
   "codemirror_mode": {
    "name": "ipython",
    "version": 2
   },
   "file_extension": ".py",
   "mimetype": "text/x-python",
   "name": "python",
   "nbconvert_exporter": "python",
   "pygments_lexer": "ipython2",
   "version": "2.7.6"
  }
 },
 "nbformat": 4,
 "nbformat_minor": 5
}
