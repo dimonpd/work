{
  "cells": [
    {
      "metadata": {
        "collapsed": true,
        "ExecuteTime": {
          "end_time": "2024-09-19T14:20:46.008213Z",
          "start_time": "2024-09-19T14:20:45.982750Z"
        },
        "id": "initial_id"
      },
      "cell_type": "code",
      "source": [
        "import pandas as pd\n",
        "import numpy as np\n",
        "import matplotlib.pyplot as plt\n",
        "import seaborn as sns\n",
        "from pyexpat import features\n",
        "\n",
        "sns.set_theme(style=\"whitegrid\")\n",
        "import warnings\n",
        "warnings.filterwarnings(\"ignore\", category=UserWarning, module=\"seaborn\")\n",
        "from sklearn.ensemble import RandomForestRegressor\n",
        "from sklearn.model_selection import train_test_split\n",
        "from sklearn.metrics import mean_absolute_error\n",
        "from sklearn.metrics import mean_squared_error\n",
        "from catboost import CatBoostClassifier, Pool"
      ],
      "id": "initial_id",
      "outputs": [],
      "execution_count": null
    },
    {
      "metadata": {
        "ExecuteTime": {
          "end_time": "2024-09-19T14:18:59.243590Z",
          "start_time": "2024-09-19T14:18:59.240706Z"
        },
        "id": "c0a7cf4462f22691"
      },
      "cell_type": "code",
      "source": [
        "pd.set_option('display.float_format', '{:,.2f}'.format)"
      ],
      "id": "c0a7cf4462f22691",
      "outputs": [],
      "execution_count": null
    },
    {
      "metadata": {
        "id": "b8b2f1883ad3f0b"
      },
      "cell_type": "markdown",
      "source": [],
      "id": "b8b2f1883ad3f0b"
    },
    {
      "metadata": {
        "id": "be31e158dc03b71"
      },
      "cell_type": "markdown",
      "source": [
        "\n",
        " Чтение данных. Данные взяты из отчета [Дашбоард продаж AB](https://powerbi.data.lmru.tech/reports/powerbi/%D0%9E%D1%82%D1%87%D0%B5%D1%82%D1%8B%20Power%20BI/%D0%9B%D0%9C%20%D0%9F%D0%A0%D0%9E/%D0%94%D0%B0%D1%88%D0%B1%D0%BE%D1%80%D0%B4%20%D0%BF%D1%80%D0%BE%D0%B4%D0%B0%D0%B6%D0%B8%20%D0%90%D0%92). <br>\n",
        " Данные взяты только по продажам через b2b портал\n"
      ],
      "id": "be31e158dc03b71"
    },
    {
      "metadata": {
        "id": "54a83fde558ac900"
      },
      "cell_type": "markdown",
      "source": [
        "Описание данных\n",
        "- acive_clients - активная клиентская база\n",
        "- gmv - объём продаж , руб\n",
        "- gmv_per_customer - средний gmv на клиента\n",
        "- gmv_units - количество проданных единиц товара\n",
        "- average_bill - средний чек\n",
        "- number_orders - количество заказов\n",
        "- year - год\n",
        "- month - месяц\n",
        "- week - неделя\n",
        "- date - дата\n",
        "\n"
      ],
      "id": "54a83fde558ac900"
    },
    {
      "metadata": {
        "ExecuteTime": {
          "end_time": "2024-09-19T14:18:59.445324Z",
          "start_time": "2024-09-19T14:18:59.284188Z"
        },
        "id": "1e6445235b495ffb"
      },
      "cell_type": "code",
      "source": [
        "gmv = pd.read_excel('et/gmv .xlsx', skiprows=2)\n",
        "active_clients = pd.read_excel('et/active_clients_base.xlsx', skiprows=2)\n",
        "gmv_per_customer = pd.read_excel('et/gmv_per_customer.xlsx', skiprows=2)\n",
        "gmv_units = pd.read_excel('et/gmv_units.xlsx', skiprows=2)\n",
        "average_bill = pd.read_excel('et/mean_check.xlsx', skiprows=2)\n",
        "number_orders = pd.read_excel('et/voluem_.orders.xlsx', skiprows=2)\n"
      ],
      "id": "1e6445235b495ffb",
      "outputs": [],
      "execution_count": null
    },
    {
      "metadata": {
        "id": "4314ef6203b00654"
      },
      "cell_type": "markdown",
      "source": [
        "Информация о датафрейме"
      ],
      "id": "4314ef6203b00654"
    },
    {
      "metadata": {
        "ExecuteTime": {
          "end_time": "2024-09-19T14:18:59.456505Z",
          "start_time": "2024-09-19T14:18:59.452336Z"
        },
        "id": "5fb448b34c03498b",
        "outputId": "fe532030-a372-4bb5-b446-7768aa98e77c"
      },
      "cell_type": "code",
      "source": [
        "print(f'Тип данных: '\n",
        "      f'\\n{gmv.dtypes}'\n",
        "      f'\\nShape: {gmv.shape}'\n",
        "      f'\\n Nan:'\n",
        "      f'\\n {gmv.isna().sum()}')"
      ],
      "id": "5fb448b34c03498b",
      "outputs": [
        {
          "name": "stdout",
          "output_type": "stream",
          "text": [
            "Тип данных: \n",
            "Год                    int64\n",
            "Месяц                float64\n",
            "Неделя                object\n",
            "Дата          datetime64[ns]\n",
            "Показатель           float64\n",
            "dtype: object\n",
            "Shape: (594, 5)\n",
            " Nan:\n",
            " Год           0\n",
            "Месяц         0\n",
            "Неделя        0\n",
            "Дата          0\n",
            "Показатель    0\n",
            "dtype: int64\n"
          ]
        }
      ],
      "execution_count": null
    },
    {
      "metadata": {
        "ExecuteTime": {
          "end_time": "2024-09-19T14:18:59.587102Z",
          "start_time": "2024-09-19T14:18:59.576847Z"
        },
        "id": "f0c9caa74b5ef3d5",
        "outputId": "b7540dfb-9a65-4144-dbe5-105d294f2ea5"
      },
      "cell_type": "code",
      "source": [
        "gmv.tail(10)"
      ],
      "id": "f0c9caa74b5ef3d5",
      "outputs": [
        {
          "data": {
            "text/plain": [
              "      Год    Месяц    Неделя       Дата   Показатель\n",
              "584  2024 2,024.08  2024.w34 2024-08-22 5,832,042.50\n",
              "585  2024 2,024.08  2024.w34 2024-08-23 5,562,394.46\n",
              "586  2024 2,024.08  2024.w34 2024-08-24 2,761,331.70\n",
              "587  2024 2,024.08  2024.w34 2024-08-25 2,181,533.39\n",
              "588  2024 2,024.08  2024.w35 2024-08-26 4,735,097.24\n",
              "589  2024 2,024.08  2024.w35 2024-08-27 6,350,600.56\n",
              "590  2024 2,024.08  2024.w35 2024-08-28 6,111,320.69\n",
              "591  2024 2,024.08  2024.w35 2024-08-29 6,521,139.29\n",
              "592  2024 2,024.08  2024.w35 2024-08-30 5,493,522.97\n",
              "593  2024 2,024.08  2024.w35 2024-08-31 2,813,324.65"
            ],
            "text/html": [
              "<div>\n",
              "<style scoped>\n",
              "    .dataframe tbody tr th:only-of-type {\n",
              "        vertical-align: middle;\n",
              "    }\n",
              "\n",
              "    .dataframe tbody tr th {\n",
              "        vertical-align: top;\n",
              "    }\n",
              "\n",
              "    .dataframe thead th {\n",
              "        text-align: right;\n",
              "    }\n",
              "</style>\n",
              "<table border=\"1\" class=\"dataframe\">\n",
              "  <thead>\n",
              "    <tr style=\"text-align: right;\">\n",
              "      <th></th>\n",
              "      <th>Год</th>\n",
              "      <th>Месяц</th>\n",
              "      <th>Неделя</th>\n",
              "      <th>Дата</th>\n",
              "      <th>Показатель</th>\n",
              "    </tr>\n",
              "  </thead>\n",
              "  <tbody>\n",
              "    <tr>\n",
              "      <th>584</th>\n",
              "      <td>2024</td>\n",
              "      <td>2,024.08</td>\n",
              "      <td>2024.w34</td>\n",
              "      <td>2024-08-22</td>\n",
              "      <td>5,832,042.50</td>\n",
              "    </tr>\n",
              "    <tr>\n",
              "      <th>585</th>\n",
              "      <td>2024</td>\n",
              "      <td>2,024.08</td>\n",
              "      <td>2024.w34</td>\n",
              "      <td>2024-08-23</td>\n",
              "      <td>5,562,394.46</td>\n",
              "    </tr>\n",
              "    <tr>\n",
              "      <th>586</th>\n",
              "      <td>2024</td>\n",
              "      <td>2,024.08</td>\n",
              "      <td>2024.w34</td>\n",
              "      <td>2024-08-24</td>\n",
              "      <td>2,761,331.70</td>\n",
              "    </tr>\n",
              "    <tr>\n",
              "      <th>587</th>\n",
              "      <td>2024</td>\n",
              "      <td>2,024.08</td>\n",
              "      <td>2024.w34</td>\n",
              "      <td>2024-08-25</td>\n",
              "      <td>2,181,533.39</td>\n",
              "    </tr>\n",
              "    <tr>\n",
              "      <th>588</th>\n",
              "      <td>2024</td>\n",
              "      <td>2,024.08</td>\n",
              "      <td>2024.w35</td>\n",
              "      <td>2024-08-26</td>\n",
              "      <td>4,735,097.24</td>\n",
              "    </tr>\n",
              "    <tr>\n",
              "      <th>589</th>\n",
              "      <td>2024</td>\n",
              "      <td>2,024.08</td>\n",
              "      <td>2024.w35</td>\n",
              "      <td>2024-08-27</td>\n",
              "      <td>6,350,600.56</td>\n",
              "    </tr>\n",
              "    <tr>\n",
              "      <th>590</th>\n",
              "      <td>2024</td>\n",
              "      <td>2,024.08</td>\n",
              "      <td>2024.w35</td>\n",
              "      <td>2024-08-28</td>\n",
              "      <td>6,111,320.69</td>\n",
              "    </tr>\n",
              "    <tr>\n",
              "      <th>591</th>\n",
              "      <td>2024</td>\n",
              "      <td>2,024.08</td>\n",
              "      <td>2024.w35</td>\n",
              "      <td>2024-08-29</td>\n",
              "      <td>6,521,139.29</td>\n",
              "    </tr>\n",
              "    <tr>\n",
              "      <th>592</th>\n",
              "      <td>2024</td>\n",
              "      <td>2,024.08</td>\n",
              "      <td>2024.w35</td>\n",
              "      <td>2024-08-30</td>\n",
              "      <td>5,493,522.97</td>\n",
              "    </tr>\n",
              "    <tr>\n",
              "      <th>593</th>\n",
              "      <td>2024</td>\n",
              "      <td>2,024.08</td>\n",
              "      <td>2024.w35</td>\n",
              "      <td>2024-08-31</td>\n",
              "      <td>2,813,324.65</td>\n",
              "    </tr>\n",
              "  </tbody>\n",
              "</table>\n",
              "</div>"
            ]
          },
          "execution_count": 12,
          "metadata": {},
          "output_type": "execute_result"
        }
      ],
      "execution_count": null
    },
    {
      "metadata": {
        "id": "6cbf645ff99969d"
      },
      "cell_type": "markdown",
      "source": [
        "Заменим названия столбцов и агрегируем данные"
      ],
      "id": "6cbf645ff99969d"
    },
    {
      "metadata": {
        "ExecuteTime": {
          "end_time": "2024-09-19T14:18:59.724245Z",
          "start_time": "2024-09-19T14:18:59.721101Z"
        },
        "id": "e7c0718294685296"
      },
      "cell_type": "code",
      "source": [
        "def rename_columns(df: pd.DataFrame) -> pd.DataFrame:\n",
        "    df_name = [k for k, v in globals().items() if id(v) == id(df)][0]\n",
        "    df.rename(columns={'Год' : 'year', 'Месяц' : 'month', 'Неделя' : 'week', 'Дата' : 'date', 'Показатель' : df_name}, inplace=True)\n",
        "    return df"
      ],
      "id": "e7c0718294685296",
      "outputs": [],
      "execution_count": null
    },
    {
      "metadata": {
        "ExecuteTime": {
          "end_time": "2024-09-19T14:18:59.826714Z",
          "start_time": "2024-09-19T14:18:59.818628Z"
        },
        "id": "7463a479fe3e84ca",
        "outputId": "a2c82318-a92f-4221-b687-e4e26e3b1386"
      },
      "cell_type": "code",
      "source": [
        "rename_columns(gmv)\n",
        "rename_columns(active_clients)\n",
        "rename_columns(gmv_per_customer)\n",
        "rename_columns(gmv_units)\n",
        "rename_columns(average_bill)\n",
        "rename_columns(number_orders)"
      ],
      "id": "7463a479fe3e84ca",
      "outputs": [
        {
          "data": {
            "text/plain": [
              "     year    month      week       date  number_orders\n",
              "0    2023 2,023.01  2023.w02 2023-01-11              4\n",
              "1    2023 2,023.01  2023.w02 2023-01-12              1\n",
              "2    2023 2,023.01  2023.w02 2023-01-13              3\n",
              "3    2023 2,023.01  2023.w03 2023-01-16              6\n",
              "4    2023 2,023.01  2023.w03 2023-01-17             13\n",
              "..    ...      ...       ...        ...            ...\n",
              "589  2024 2,024.08  2024.w35 2024-08-27            392\n",
              "590  2024 2,024.08  2024.w35 2024-08-28            382\n",
              "591  2024 2,024.08  2024.w35 2024-08-29            347\n",
              "592  2024 2,024.08  2024.w35 2024-08-30            344\n",
              "593  2024 2,024.08  2024.w35 2024-08-31            113\n",
              "\n",
              "[594 rows x 5 columns]"
            ],
            "text/html": [
              "<div>\n",
              "<style scoped>\n",
              "    .dataframe tbody tr th:only-of-type {\n",
              "        vertical-align: middle;\n",
              "    }\n",
              "\n",
              "    .dataframe tbody tr th {\n",
              "        vertical-align: top;\n",
              "    }\n",
              "\n",
              "    .dataframe thead th {\n",
              "        text-align: right;\n",
              "    }\n",
              "</style>\n",
              "<table border=\"1\" class=\"dataframe\">\n",
              "  <thead>\n",
              "    <tr style=\"text-align: right;\">\n",
              "      <th></th>\n",
              "      <th>year</th>\n",
              "      <th>month</th>\n",
              "      <th>week</th>\n",
              "      <th>date</th>\n",
              "      <th>number_orders</th>\n",
              "    </tr>\n",
              "  </thead>\n",
              "  <tbody>\n",
              "    <tr>\n",
              "      <th>0</th>\n",
              "      <td>2023</td>\n",
              "      <td>2,023.01</td>\n",
              "      <td>2023.w02</td>\n",
              "      <td>2023-01-11</td>\n",
              "      <td>4</td>\n",
              "    </tr>\n",
              "    <tr>\n",
              "      <th>1</th>\n",
              "      <td>2023</td>\n",
              "      <td>2,023.01</td>\n",
              "      <td>2023.w02</td>\n",
              "      <td>2023-01-12</td>\n",
              "      <td>1</td>\n",
              "    </tr>\n",
              "    <tr>\n",
              "      <th>2</th>\n",
              "      <td>2023</td>\n",
              "      <td>2,023.01</td>\n",
              "      <td>2023.w02</td>\n",
              "      <td>2023-01-13</td>\n",
              "      <td>3</td>\n",
              "    </tr>\n",
              "    <tr>\n",
              "      <th>3</th>\n",
              "      <td>2023</td>\n",
              "      <td>2,023.01</td>\n",
              "      <td>2023.w03</td>\n",
              "      <td>2023-01-16</td>\n",
              "      <td>6</td>\n",
              "    </tr>\n",
              "    <tr>\n",
              "      <th>4</th>\n",
              "      <td>2023</td>\n",
              "      <td>2,023.01</td>\n",
              "      <td>2023.w03</td>\n",
              "      <td>2023-01-17</td>\n",
              "      <td>13</td>\n",
              "    </tr>\n",
              "    <tr>\n",
              "      <th>...</th>\n",
              "      <td>...</td>\n",
              "      <td>...</td>\n",
              "      <td>...</td>\n",
              "      <td>...</td>\n",
              "      <td>...</td>\n",
              "    </tr>\n",
              "    <tr>\n",
              "      <th>589</th>\n",
              "      <td>2024</td>\n",
              "      <td>2,024.08</td>\n",
              "      <td>2024.w35</td>\n",
              "      <td>2024-08-27</td>\n",
              "      <td>392</td>\n",
              "    </tr>\n",
              "    <tr>\n",
              "      <th>590</th>\n",
              "      <td>2024</td>\n",
              "      <td>2,024.08</td>\n",
              "      <td>2024.w35</td>\n",
              "      <td>2024-08-28</td>\n",
              "      <td>382</td>\n",
              "    </tr>\n",
              "    <tr>\n",
              "      <th>591</th>\n",
              "      <td>2024</td>\n",
              "      <td>2,024.08</td>\n",
              "      <td>2024.w35</td>\n",
              "      <td>2024-08-29</td>\n",
              "      <td>347</td>\n",
              "    </tr>\n",
              "    <tr>\n",
              "      <th>592</th>\n",
              "      <td>2024</td>\n",
              "      <td>2,024.08</td>\n",
              "      <td>2024.w35</td>\n",
              "      <td>2024-08-30</td>\n",
              "      <td>344</td>\n",
              "    </tr>\n",
              "    <tr>\n",
              "      <th>593</th>\n",
              "      <td>2024</td>\n",
              "      <td>2,024.08</td>\n",
              "      <td>2024.w35</td>\n",
              "      <td>2024-08-31</td>\n",
              "      <td>113</td>\n",
              "    </tr>\n",
              "  </tbody>\n",
              "</table>\n",
              "<p>594 rows × 5 columns</p>\n",
              "</div>"
            ]
          },
          "execution_count": 14,
          "metadata": {},
          "output_type": "execute_result"
        }
      ],
      "execution_count": null
    },
    {
      "metadata": {
        "ExecuteTime": {
          "end_time": "2024-09-19T14:18:59.977942Z",
          "start_time": "2024-09-19T14:18:59.971853Z"
        },
        "id": "9234e54ea391f4d5"
      },
      "cell_type": "code",
      "source": [
        "df_merged = pd.merge(active_clients, gmv, on=['year','month','week','date'], how='outer')"
      ],
      "id": "9234e54ea391f4d5",
      "outputs": [],
      "execution_count": null
    },
    {
      "metadata": {
        "ExecuteTime": {
          "end_time": "2024-09-19T14:19:00.101804Z",
          "start_time": "2024-09-19T14:19:00.089563Z"
        },
        "id": "170a1f0f311b410a"
      },
      "cell_type": "code",
      "source": [
        "df_merged = pd.merge(df_merged, gmv_per_customer, on=['year','month','week','date'], how='outer')\n",
        "df_merged = pd.merge(df_merged, gmv_units, on=['year','month','week','date'], how='outer')\n",
        "df_merged = pd.merge(df_merged, average_bill, on=['year','month','week','date'], how='outer')\n",
        "df_merged = pd.merge(df_merged, number_orders, on=['year','month','week','date'], how='outer')"
      ],
      "id": "170a1f0f311b410a",
      "outputs": [],
      "execution_count": null
    },
    {
      "metadata": {
        "id": "5e5bd73508208514"
      },
      "cell_type": "markdown",
      "source": [],
      "id": "5e5bd73508208514"
    },
    {
      "metadata": {
        "ExecuteTime": {
          "end_time": "2024-09-19T14:19:00.273750Z",
          "start_time": "2024-09-19T14:19:00.266246Z"
        },
        "id": "6ef3ccdccfb2f4c",
        "outputId": "efcc216a-763e-4f4c-9e34-3e05fe071bd6"
      },
      "cell_type": "code",
      "source": [
        "df_merged.head()"
      ],
      "id": "6ef3ccdccfb2f4c",
      "outputs": [
        {
          "data": {
            "text/plain": [
              "   year    month      week       date  active_clients        gmv  \\\n",
              "0  2023 2,023.01  2023.w02 2023-01-11               3  49,960.00   \n",
              "1  2023 2,023.01  2023.w02 2023-01-12               1   3,905.00   \n",
              "2  2023 2,023.01  2023.w02 2023-01-13               2  23,048.00   \n",
              "3  2023 2,023.01  2023.w03 2023-01-16               4  65,217.00   \n",
              "4  2023 2,023.01  2023.w03 2023-01-17               5 187,437.00   \n",
              "\n",
              "   gmv_per_customer  gmv_units  average_bill  number_orders  \n",
              "0         16,653.33      59.00     12,490.00              4  \n",
              "1          3,905.00      27.00      3,905.00              1  \n",
              "2         11,524.00     199.00      7,682.67              3  \n",
              "3         16,304.25     161.00     10,869.50              6  \n",
              "4         37,487.40     642.00     14,418.23             13  "
            ],
            "text/html": [
              "<div>\n",
              "<style scoped>\n",
              "    .dataframe tbody tr th:only-of-type {\n",
              "        vertical-align: middle;\n",
              "    }\n",
              "\n",
              "    .dataframe tbody tr th {\n",
              "        vertical-align: top;\n",
              "    }\n",
              "\n",
              "    .dataframe thead th {\n",
              "        text-align: right;\n",
              "    }\n",
              "</style>\n",
              "<table border=\"1\" class=\"dataframe\">\n",
              "  <thead>\n",
              "    <tr style=\"text-align: right;\">\n",
              "      <th></th>\n",
              "      <th>year</th>\n",
              "      <th>month</th>\n",
              "      <th>week</th>\n",
              "      <th>date</th>\n",
              "      <th>active_clients</th>\n",
              "      <th>gmv</th>\n",
              "      <th>gmv_per_customer</th>\n",
              "      <th>gmv_units</th>\n",
              "      <th>average_bill</th>\n",
              "      <th>number_orders</th>\n",
              "    </tr>\n",
              "  </thead>\n",
              "  <tbody>\n",
              "    <tr>\n",
              "      <th>0</th>\n",
              "      <td>2023</td>\n",
              "      <td>2,023.01</td>\n",
              "      <td>2023.w02</td>\n",
              "      <td>2023-01-11</td>\n",
              "      <td>3</td>\n",
              "      <td>49,960.00</td>\n",
              "      <td>16,653.33</td>\n",
              "      <td>59.00</td>\n",
              "      <td>12,490.00</td>\n",
              "      <td>4</td>\n",
              "    </tr>\n",
              "    <tr>\n",
              "      <th>1</th>\n",
              "      <td>2023</td>\n",
              "      <td>2,023.01</td>\n",
              "      <td>2023.w02</td>\n",
              "      <td>2023-01-12</td>\n",
              "      <td>1</td>\n",
              "      <td>3,905.00</td>\n",
              "      <td>3,905.00</td>\n",
              "      <td>27.00</td>\n",
              "      <td>3,905.00</td>\n",
              "      <td>1</td>\n",
              "    </tr>\n",
              "    <tr>\n",
              "      <th>2</th>\n",
              "      <td>2023</td>\n",
              "      <td>2,023.01</td>\n",
              "      <td>2023.w02</td>\n",
              "      <td>2023-01-13</td>\n",
              "      <td>2</td>\n",
              "      <td>23,048.00</td>\n",
              "      <td>11,524.00</td>\n",
              "      <td>199.00</td>\n",
              "      <td>7,682.67</td>\n",
              "      <td>3</td>\n",
              "    </tr>\n",
              "    <tr>\n",
              "      <th>3</th>\n",
              "      <td>2023</td>\n",
              "      <td>2,023.01</td>\n",
              "      <td>2023.w03</td>\n",
              "      <td>2023-01-16</td>\n",
              "      <td>4</td>\n",
              "      <td>65,217.00</td>\n",
              "      <td>16,304.25</td>\n",
              "      <td>161.00</td>\n",
              "      <td>10,869.50</td>\n",
              "      <td>6</td>\n",
              "    </tr>\n",
              "    <tr>\n",
              "      <th>4</th>\n",
              "      <td>2023</td>\n",
              "      <td>2,023.01</td>\n",
              "      <td>2023.w03</td>\n",
              "      <td>2023-01-17</td>\n",
              "      <td>5</td>\n",
              "      <td>187,437.00</td>\n",
              "      <td>37,487.40</td>\n",
              "      <td>642.00</td>\n",
              "      <td>14,418.23</td>\n",
              "      <td>13</td>\n",
              "    </tr>\n",
              "  </tbody>\n",
              "</table>\n",
              "</div>"
            ]
          },
          "execution_count": 17,
          "metadata": {},
          "output_type": "execute_result"
        }
      ],
      "execution_count": null
    },
    {
      "metadata": {
        "ExecuteTime": {
          "end_time": "2024-09-19T14:19:00.493101Z",
          "start_time": "2024-09-19T14:19:00.487586Z"
        },
        "id": "99a0e36b6fb8d088",
        "outputId": "e9b89cec-50b8-4a9f-e8ef-42fa6cbbbc8e"
      },
      "cell_type": "code",
      "source": [
        "print(f'Тип данных: '\n",
        "      f'\\n{df_merged.dtypes}'\n",
        "      f'\\nShape: {df_merged.shape}'\n",
        "      f'\\n Nan:'\n",
        "      f'\\n {df_merged.isna().sum()}')"
      ],
      "id": "99a0e36b6fb8d088",
      "outputs": [
        {
          "name": "stdout",
          "output_type": "stream",
          "text": [
            "Тип данных: \n",
            "year                         int64\n",
            "month                      float64\n",
            "week                        object\n",
            "date                datetime64[ns]\n",
            "active_clients               int64\n",
            "gmv                        float64\n",
            "gmv_per_customer           float64\n",
            "gmv_units                  float64\n",
            "average_bill               float64\n",
            "number_orders                int64\n",
            "dtype: object\n",
            "Shape: (594, 10)\n",
            " Nan:\n",
            " year                0\n",
            "month               0\n",
            "week                0\n",
            "date                0\n",
            "active_clients      0\n",
            "gmv                 0\n",
            "gmv_per_customer    0\n",
            "gmv_units           0\n",
            "average_bill        0\n",
            "number_orders       0\n",
            "dtype: int64\n"
          ]
        }
      ],
      "execution_count": null
    },
    {
      "metadata": {
        "ExecuteTime": {
          "end_time": "2024-09-19T14:19:00.887334Z",
          "start_time": "2024-09-19T14:19:00.870146Z"
        },
        "id": "af8b2d014b419d76",
        "outputId": "db81758e-f611-4170-927d-6df1d64be7a0"
      },
      "cell_type": "code",
      "source": [
        "df_merged.describe().T"
      ],
      "id": "af8b2d014b419d76",
      "outputs": [
        {
          "data": {
            "text/plain": [
              "                  count                           mean                  min  \\\n",
              "year             594.00                       2,023.41             2,023.00   \n",
              "month            594.00                       2,023.47             2,023.01   \n",
              "date                594  2023-11-07 20:55:45.454545408  2023-01-11 00:00:00   \n",
              "active_clients   594.00                          74.70                 1.00   \n",
              "gmv              594.00                   2,383,888.69             1,266.00   \n",
              "gmv_per_customer 594.00                      30,739.95             1,266.00   \n",
              "gmv_units        594.00                       7,579.46                 2.00   \n",
              "average_bill     594.00                      19,286.91             1,266.00   \n",
              "number_orders    594.00                         130.26                 1.00   \n",
              "\n",
              "                                  25%                  50%  \\\n",
              "year                         2,023.00             2,023.00   \n",
              "month                        2,023.06             2,023.11   \n",
              "date              2023-06-12 06:00:00  2023-11-07 12:00:00   \n",
              "active_clients                  28.00                64.50   \n",
              "gmv                        828,349.43         2,004,397.04   \n",
              "gmv_per_customer            25,494.48            30,490.37   \n",
              "gmv_units                    2,613.75             6,435.00   \n",
              "average_bill                15,528.85            17,976.18   \n",
              "number_orders                   42.00               106.00   \n",
              "\n",
              "                                  75%                  max          std  \n",
              "year                         2,024.00             2,024.00         0.49  \n",
              "month                        2,024.04             2,024.08         0.48  \n",
              "date              2024-04-04 18:00:00  2024-08-31 00:00:00          NaN  \n",
              "active_clients                 113.00               198.00        52.83  \n",
              "gmv                      3,569,723.24         7,859,251.65 1,838,354.24  \n",
              "gmv_per_customer            35,519.47           117,388.27    10,726.63  \n",
              "gmv_units                   11,411.75            44,383.00     5,970.14  \n",
              "average_bill                21,431.43            92,224.04     7,504.61  \n",
              "number_orders                  203.75               392.00       101.60  "
            ],
            "text/html": [
              "<div>\n",
              "<style scoped>\n",
              "    .dataframe tbody tr th:only-of-type {\n",
              "        vertical-align: middle;\n",
              "    }\n",
              "\n",
              "    .dataframe tbody tr th {\n",
              "        vertical-align: top;\n",
              "    }\n",
              "\n",
              "    .dataframe thead th {\n",
              "        text-align: right;\n",
              "    }\n",
              "</style>\n",
              "<table border=\"1\" class=\"dataframe\">\n",
              "  <thead>\n",
              "    <tr style=\"text-align: right;\">\n",
              "      <th></th>\n",
              "      <th>count</th>\n",
              "      <th>mean</th>\n",
              "      <th>min</th>\n",
              "      <th>25%</th>\n",
              "      <th>50%</th>\n",
              "      <th>75%</th>\n",
              "      <th>max</th>\n",
              "      <th>std</th>\n",
              "    </tr>\n",
              "  </thead>\n",
              "  <tbody>\n",
              "    <tr>\n",
              "      <th>year</th>\n",
              "      <td>594.00</td>\n",
              "      <td>2,023.41</td>\n",
              "      <td>2,023.00</td>\n",
              "      <td>2,023.00</td>\n",
              "      <td>2,023.00</td>\n",
              "      <td>2,024.00</td>\n",
              "      <td>2,024.00</td>\n",
              "      <td>0.49</td>\n",
              "    </tr>\n",
              "    <tr>\n",
              "      <th>month</th>\n",
              "      <td>594.00</td>\n",
              "      <td>2,023.47</td>\n",
              "      <td>2,023.01</td>\n",
              "      <td>2,023.06</td>\n",
              "      <td>2,023.11</td>\n",
              "      <td>2,024.04</td>\n",
              "      <td>2,024.08</td>\n",
              "      <td>0.48</td>\n",
              "    </tr>\n",
              "    <tr>\n",
              "      <th>date</th>\n",
              "      <td>594</td>\n",
              "      <td>2023-11-07 20:55:45.454545408</td>\n",
              "      <td>2023-01-11 00:00:00</td>\n",
              "      <td>2023-06-12 06:00:00</td>\n",
              "      <td>2023-11-07 12:00:00</td>\n",
              "      <td>2024-04-04 18:00:00</td>\n",
              "      <td>2024-08-31 00:00:00</td>\n",
              "      <td>NaN</td>\n",
              "    </tr>\n",
              "    <tr>\n",
              "      <th>active_clients</th>\n",
              "      <td>594.00</td>\n",
              "      <td>74.70</td>\n",
              "      <td>1.00</td>\n",
              "      <td>28.00</td>\n",
              "      <td>64.50</td>\n",
              "      <td>113.00</td>\n",
              "      <td>198.00</td>\n",
              "      <td>52.83</td>\n",
              "    </tr>\n",
              "    <tr>\n",
              "      <th>gmv</th>\n",
              "      <td>594.00</td>\n",
              "      <td>2,383,888.69</td>\n",
              "      <td>1,266.00</td>\n",
              "      <td>828,349.43</td>\n",
              "      <td>2,004,397.04</td>\n",
              "      <td>3,569,723.24</td>\n",
              "      <td>7,859,251.65</td>\n",
              "      <td>1,838,354.24</td>\n",
              "    </tr>\n",
              "    <tr>\n",
              "      <th>gmv_per_customer</th>\n",
              "      <td>594.00</td>\n",
              "      <td>30,739.95</td>\n",
              "      <td>1,266.00</td>\n",
              "      <td>25,494.48</td>\n",
              "      <td>30,490.37</td>\n",
              "      <td>35,519.47</td>\n",
              "      <td>117,388.27</td>\n",
              "      <td>10,726.63</td>\n",
              "    </tr>\n",
              "    <tr>\n",
              "      <th>gmv_units</th>\n",
              "      <td>594.00</td>\n",
              "      <td>7,579.46</td>\n",
              "      <td>2.00</td>\n",
              "      <td>2,613.75</td>\n",
              "      <td>6,435.00</td>\n",
              "      <td>11,411.75</td>\n",
              "      <td>44,383.00</td>\n",
              "      <td>5,970.14</td>\n",
              "    </tr>\n",
              "    <tr>\n",
              "      <th>average_bill</th>\n",
              "      <td>594.00</td>\n",
              "      <td>19,286.91</td>\n",
              "      <td>1,266.00</td>\n",
              "      <td>15,528.85</td>\n",
              "      <td>17,976.18</td>\n",
              "      <td>21,431.43</td>\n",
              "      <td>92,224.04</td>\n",
              "      <td>7,504.61</td>\n",
              "    </tr>\n",
              "    <tr>\n",
              "      <th>number_orders</th>\n",
              "      <td>594.00</td>\n",
              "      <td>130.26</td>\n",
              "      <td>1.00</td>\n",
              "      <td>42.00</td>\n",
              "      <td>106.00</td>\n",
              "      <td>203.75</td>\n",
              "      <td>392.00</td>\n",
              "      <td>101.60</td>\n",
              "    </tr>\n",
              "  </tbody>\n",
              "</table>\n",
              "</div>"
            ]
          },
          "execution_count": 19,
          "metadata": {},
          "output_type": "execute_result"
        }
      ],
      "execution_count": null
    },
    {
      "metadata": {
        "ExecuteTime": {
          "end_time": "2024-09-19T14:19:01.860898Z",
          "start_time": "2024-09-19T14:19:01.119671Z"
        },
        "id": "148a030d97cd50f1",
        "outputId": "25ebe0e7-9622-4f18-96d9-78e2006bd28a"
      },
      "cell_type": "code",
      "source": [
        "sns.displot(data=df_merged, x=\"gmv_per_customer\", kde=True, col=\"year\", col_wrap=3)\n"
      ],
      "id": "148a030d97cd50f1",
      "outputs": [
        {
          "data": {
            "text/plain": [
              "<seaborn.axisgrid.FacetGrid at 0x20e892ae480>"
            ]
          },
          "execution_count": 20,
          "metadata": {},
          "output_type": "execute_result"
        },
        {
          "data": {
            "text/plain": [
              "<Figure size 1500x500 with 2 Axes>"
            ],
            "image/png": "[encoded data removed]"
          },
          "metadata": {},
          "output_type": "display_data"
        }
      ],
      "execution_count": null
    },
    {
      "metadata": {
        "ExecuteTime": {
          "end_time": "2024-09-19T14:19:01.938549Z",
          "start_time": "2024-09-19T14:19:01.936716Z"
        },
        "id": "933b0da8e1b05c1e"
      },
      "cell_type": "code",
      "source": [],
      "id": "933b0da8e1b05c1e",
      "outputs": [],
      "execution_count": null
    },
    {
      "metadata": {
        "ExecuteTime": {
          "end_time": "2024-09-19T14:19:02.048872Z",
          "start_time": "2024-09-19T14:19:02.043763Z"
        },
        "id": "de8f1a627adac84",
        "outputId": "c66ae777-26f9-42ae-9914-49f6b5e4caa6"
      },
      "cell_type": "code",
      "source": [
        "df_merged.columns.to_list()"
      ],
      "id": "de8f1a627adac84",
      "outputs": [
        {
          "data": {
            "text/plain": [
              "['year',\n",
              " 'month',\n",
              " 'week',\n",
              " 'date',\n",
              " 'active_clients',\n",
              " 'gmv',\n",
              " 'gmv_per_customer',\n",
              " 'gmv_units',\n",
              " 'average_bill',\n",
              " 'number_orders']"
            ]
          },
          "execution_count": 21,
          "metadata": {},
          "output_type": "execute_result"
        }
      ],
      "execution_count": null
    },
    {
      "metadata": {
        "id": "32930828b9dd9d61"
      },
      "cell_type": "markdown",
      "source": [
        "Получим массив признаков и разобьем на тестовую и обучающую выборки"
      ],
      "id": "32930828b9dd9d61"
    },
    {
      "metadata": {
        "ExecuteTime": {
          "end_time": "2024-09-19T14:19:02.259147Z",
          "start_time": "2024-09-19T14:19:02.255534Z"
        },
        "id": "4058b57579511e8c"
      },
      "cell_type": "code",
      "source": [
        "X = df_merged[['active_clients', 'gmv_per_customer', 'gmv_units', 'average_bill', 'number_orders']]"
      ],
      "id": "4058b57579511e8c",
      "outputs": [],
      "execution_count": null
    },
    {
      "metadata": {
        "ExecuteTime": {
          "end_time": "2024-09-19T14:19:02.380727Z",
          "start_time": "2024-09-19T14:19:02.377751Z"
        },
        "id": "4456aa2f4f33eb0e"
      },
      "cell_type": "code",
      "source": [
        "y = df_merged['gmv']"
      ],
      "id": "4456aa2f4f33eb0e",
      "outputs": [],
      "execution_count": null
    },
    {
      "metadata": {
        "ExecuteTime": {
          "end_time": "2024-09-19T14:19:02.414212Z",
          "start_time": "2024-09-19T14:19:02.409737Z"
        },
        "id": "1f6f73582bc4286d",
        "outputId": "b29c7990-f0f8-48f2-f07a-8172a3eed8e8"
      },
      "cell_type": "code",
      "source": [
        "X.dtypes"
      ],
      "id": "1f6f73582bc4286d",
      "outputs": [
        {
          "data": {
            "text/plain": [
              "active_clients        int64\n",
              "gmv_per_customer    float64\n",
              "gmv_units           float64\n",
              "average_bill        float64\n",
              "number_orders         int64\n",
              "dtype: object"
            ]
          },
          "execution_count": 24,
          "metadata": {},
          "output_type": "execute_result"
        }
      ],
      "execution_count": null
    },
    {
      "metadata": {
        "ExecuteTime": {
          "end_time": "2024-09-19T14:19:02.467445Z",
          "start_time": "2024-09-19T14:19:02.462478Z"
        },
        "id": "6b4f5ee69f5c63d2"
      },
      "cell_type": "code",
      "source": [
        "X_train, X_test, y_train, y_test = train_test_split(X, y, test_size=0.2, random_state=42)"
      ],
      "id": "6b4f5ee69f5c63d2",
      "outputs": [],
      "execution_count": null
    },
    {
      "metadata": {
        "ExecuteTime": {
          "end_time": "2024-09-19T14:19:02.549434Z",
          "start_time": "2024-09-19T14:19:02.545849Z"
        },
        "id": "c567fa07c2227f84"
      },
      "cell_type": "code",
      "source": [
        "rf = RandomForestRegressor(n_estimators=100, random_state=42)"
      ],
      "id": "c567fa07c2227f84",
      "outputs": [],
      "execution_count": null
    },
    {
      "metadata": {
        "ExecuteTime": {
          "end_time": "2024-09-19T14:19:02.839193Z",
          "start_time": "2024-09-19T14:19:02.641660Z"
        },
        "id": "b04993caab6febd1",
        "outputId": "cb2153d2-fd46-4ba2-a3e6-640080476f36"
      },
      "cell_type": "code",
      "source": [
        "rf.fit(X_train, y_train)"
      ],
      "id": "b04993caab6febd1",
      "outputs": [
        {
          "data": {
            "text/plain": [
              "RandomForestRegressor(random_state=42)"
            ],
            "text/html": [
              "<style>#sk-container-id-1 {\n",
              "  /* Definition of color scheme common for light and dark mode */\n",
              "  --sklearn-color-text: black;\n",
              "  --sklearn-color-line: gray;\n",
              "  /* Definition of color scheme for unfitted estimators */\n",
              "  --sklearn-color-unfitted-level-0: #fff5e6;\n",
              "  --sklearn-color-unfitted-level-1: #f6e4d2;\n",
              "  --sklearn-color-unfitted-level-2: #ffe0b3;\n",
              "  --sklearn-color-unfitted-level-3: chocolate;\n",
              "  /* Definition of color scheme for fitted estimators */\n",
              "  --sklearn-color-fitted-level-0: #f0f8ff;\n",
              "  --sklearn-color-fitted-level-1: #d4ebff;\n",
              "  --sklearn-color-fitted-level-2: #b3dbfd;\n",
              "  --sklearn-color-fitted-level-3: cornflowerblue;\n",
              "\n",
              "  /* Specific color for light theme */\n",
              "  --sklearn-color-text-on-default-background: var(--sg-text-color, var(--theme-code-foreground, var(--jp-content-font-color1, black)));\n",
              "  --sklearn-color-background: var(--sg-background-color, var(--theme-background, var(--jp-layout-color0, white)));\n",
              "  --sklearn-color-border-box: var(--sg-text-color, var(--theme-code-foreground, var(--jp-content-font-color1, black)));\n",
              "  --sklearn-color-icon: #696969;\n",
              "\n",
              "  @media (prefers-color-scheme: dark) {\n",
              "    /* Redefinition of color scheme for dark theme */\n",
              "    --sklearn-color-text-on-default-background: var(--sg-text-color, var(--theme-code-foreground, var(--jp-content-font-color1, white)));\n",
              "    --sklearn-color-background: var(--sg-background-color, var(--theme-background, var(--jp-layout-color0, #111)));\n",
              "    --sklearn-color-border-box: var(--sg-text-color, var(--theme-code-foreground, var(--jp-content-font-color1, white)));\n",
              "    --sklearn-color-icon: #878787;\n",
              "  }\n",
              "}\n",
              "\n",
              "#sk-container-id-1 {\n",
              "  color: var(--sklearn-color-text);\n",
              "}\n",
              "\n",
              "#sk-container-id-1 pre {\n",
              "  padding: 0;\n",
              "}\n",
              "\n",
              "#sk-container-id-1 input.sk-hidden--visually {\n",
              "  border: 0;\n",
              "  clip: rect(1px 1px 1px 1px);\n",
              "  clip: rect(1px, 1px, 1px, 1px);\n",
              "  height: 1px;\n",
              "  margin: -1px;\n",
              "  overflow: hidden;\n",
              "  padding: 0;\n",
              "  position: absolute;\n",
              "  width: 1px;\n",
              "}\n",
              "\n",
              "#sk-container-id-1 div.sk-dashed-wrapped {\n",
              "  border: 1px dashed var(--sklearn-color-line);\n",
              "  margin: 0 0.4em 0.5em 0.4em;\n",
              "  box-sizing: border-box;\n",
              "  padding-bottom: 0.4em;\n",
              "  background-color: var(--sklearn-color-background);\n",
              "}\n",
              "\n",
              "#sk-container-id-1 div.sk-container {\n",
              "  /* jupyter's `normalize.less` sets `[hidden] { display: none; }`\n",
              "     but bootstrap.min.css set `[hidden] { display: none !important; }`\n",
              "     so we also need the `!important` here to be able to override the\n",
              "     default hidden behavior on the sphinx rendered scikit-learn.org.\n",
              "     See: https://github.com/scikit-learn/scikit-learn/issues/21755 */\n",
              "  display: inline-block !important;\n",
              "  position: relative;\n",
              "}\n",
              "\n",
              "#sk-container-id-1 div.sk-text-repr-fallback {\n",
              "  display: none;\n",
              "}\n",
              "\n",
              "div.sk-parallel-item,\n",
              "div.sk-serial,\n",
              "div.sk-item {\n",
              "  /* draw centered vertical line to link estimators */\n",
              "  background-image: linear-gradient(var(--sklearn-color-text-on-default-background), var(--sklearn-color-text-on-default-background));\n",
              "  background-size: 2px 100%;\n",
              "  background-repeat: no-repeat;\n",
              "  background-position: center center;\n",
              "}\n",
              "\n",
              "/* Parallel-specific style estimator block */\n",
              "\n",
              "#sk-container-id-1 div.sk-parallel-item::after {\n",
              "  content: \"\";\n",
              "  width: 100%;\n",
              "  border-bottom: 2px solid var(--sklearn-color-text-on-default-background);\n",
              "  flex-grow: 1;\n",
              "}\n",
              "\n",
              "#sk-container-id-1 div.sk-parallel {\n",
              "  display: flex;\n",
              "  align-items: stretch;\n",
              "  justify-content: center;\n",
              "  background-color: var(--sklearn-color-background);\n",
              "  position: relative;\n",
              "}\n",
              "\n",
              "#sk-container-id-1 div.sk-parallel-item {\n",
              "  display: flex;\n",
              "  flex-direction: column;\n",
              "}\n",
              "\n",
              "#sk-container-id-1 div.sk-parallel-item:first-child::after {\n",
              "  align-self: flex-end;\n",
              "  width: 50%;\n",
              "}\n",
              "\n",
              "#sk-container-id-1 div.sk-parallel-item:last-child::after {\n",
              "  align-self: flex-start;\n",
              "  width: 50%;\n",
              "}\n",
              "\n",
              "#sk-container-id-1 div.sk-parallel-item:only-child::after {\n",
              "  width: 0;\n",
              "}\n",
              "\n",
              "/* Serial-specific style estimator block */\n",
              "\n",
              "#sk-container-id-1 div.sk-serial {\n",
              "  display: flex;\n",
              "  flex-direction: column;\n",
              "  align-items: center;\n",
              "  background-color: var(--sklearn-color-background);\n",
              "  padding-right: 1em;\n",
              "  padding-left: 1em;\n",
              "}\n",
              "\n",
              "\n",
              "/* Toggleable style: style used for estimator/Pipeline/ColumnTransformer box that is\n",
              "clickable and can be expanded/collapsed.\n",
              "- Pipeline and ColumnTransformer use this feature and define the default style\n",
              "- Estimators will overwrite some part of the style using the `sk-estimator` class\n",
              "*/\n",
              "\n",
              "/* Pipeline and ColumnTransformer style (default) */\n",
              "\n",
              "#sk-container-id-1 div.sk-toggleable {\n",
              "  /* Default theme specific background. It is overwritten whether we have a\n",
              "  specific estimator or a Pipeline/ColumnTransformer */\n",
              "  background-color: var(--sklearn-color-background);\n",
              "}\n",
              "\n",
              "/* Toggleable label */\n",
              "#sk-container-id-1 label.sk-toggleable__label {\n",
              "  cursor: pointer;\n",
              "  display: block;\n",
              "  width: 100%;\n",
              "  margin-bottom: 0;\n",
              "  padding: 0.5em;\n",
              "  box-sizing: border-box;\n",
              "  text-align: center;\n",
              "}\n",
              "\n",
              "#sk-container-id-1 label.sk-toggleable__label-arrow:before {\n",
              "  /* Arrow on the left of the label */\n",
              "  content: \"▸\";\n",
              "  float: left;\n",
              "  margin-right: 0.25em;\n",
              "  color: var(--sklearn-color-icon);\n",
              "}\n",
              "\n",
              "#sk-container-id-1 label.sk-toggleable__label-arrow:hover:before {\n",
              "  color: var(--sklearn-color-text);\n",
              "}\n",
              "\n",
              "/* Toggleable content - dropdown */\n",
              "\n",
              "#sk-container-id-1 div.sk-toggleable__content {\n",
              "  max-height: 0;\n",
              "  max-width: 0;\n",
              "  overflow: hidden;\n",
              "  text-align: left;\n",
              "  /* unfitted */\n",
              "  background-color: var(--sklearn-color-unfitted-level-0);\n",
              "}\n",
              "\n",
              "#sk-container-id-1 div.sk-toggleable__content.fitted {\n",
              "  /* fitted */\n",
              "  background-color: var(--sklearn-color-fitted-level-0);\n",
              "}\n",
              "\n",
              "#sk-container-id-1 div.sk-toggleable__content pre {\n",
              "  margin: 0.2em;\n",
              "  border-radius: 0.25em;\n",
              "  color: var(--sklearn-color-text);\n",
              "  /* unfitted */\n",
              "  background-color: var(--sklearn-color-unfitted-level-0);\n",
              "}\n",
              "\n",
              "#sk-container-id-1 div.sk-toggleable__content.fitted pre {\n",
              "  /* unfitted */\n",
              "  background-color: var(--sklearn-color-fitted-level-0);\n",
              "}\n",
              "\n",
              "#sk-container-id-1 input.sk-toggleable__control:checked~div.sk-toggleable__content {\n",
              "  /* Expand drop-down */\n",
              "  max-height: 200px;\n",
              "  max-width: 100%;\n",
              "  overflow: auto;\n",
              "}\n",
              "\n",
              "#sk-container-id-1 input.sk-toggleable__control:checked~label.sk-toggleable__label-arrow:before {\n",
              "  content: \"▾\";\n",
              "}\n",
              "\n",
              "/* Pipeline/ColumnTransformer-specific style */\n",
              "\n",
              "#sk-container-id-1 div.sk-label input.sk-toggleable__control:checked~label.sk-toggleable__label {\n",
              "  color: var(--sklearn-color-text);\n",
              "  background-color: var(--sklearn-color-unfitted-level-2);\n",
              "}\n",
              "\n",
              "#sk-container-id-1 div.sk-label.fitted input.sk-toggleable__control:checked~label.sk-toggleable__label {\n",
              "  background-color: var(--sklearn-color-fitted-level-2);\n",
              "}\n",
              "\n",
              "/* Estimator-specific style */\n",
              "\n",
              "/* Colorize estimator box */\n",
              "#sk-container-id-1 div.sk-estimator input.sk-toggleable__control:checked~label.sk-toggleable__label {\n",
              "  /* unfitted */\n",
              "  background-color: var(--sklearn-color-unfitted-level-2);\n",
              "}\n",
              "\n",
              "#sk-container-id-1 div.sk-estimator.fitted input.sk-toggleable__control:checked~label.sk-toggleable__label {\n",
              "  /* fitted */\n",
              "  background-color: var(--sklearn-color-fitted-level-2);\n",
              "}\n",
              "\n",
              "#sk-container-id-1 div.sk-label label.sk-toggleable__label,\n",
              "#sk-container-id-1 div.sk-label label {\n",
              "  /* The background is the default theme color */\n",
              "  color: var(--sklearn-color-text-on-default-background);\n",
              "}\n",
              "\n",
              "/* On hover, darken the color of the background */\n",
              "#sk-container-id-1 div.sk-label:hover label.sk-toggleable__label {\n",
              "  color: var(--sklearn-color-text);\n",
              "  background-color: var(--sklearn-color-unfitted-level-2);\n",
              "}\n",
              "\n",
              "/* Label box, darken color on hover, fitted */\n",
              "#sk-container-id-1 div.sk-label.fitted:hover label.sk-toggleable__label.fitted {\n",
              "  color: var(--sklearn-color-text);\n",
              "  background-color: var(--sklearn-color-fitted-level-2);\n",
              "}\n",
              "\n",
              "/* Estimator label */\n",
              "\n",
              "#sk-container-id-1 div.sk-label label {\n",
              "  font-family: monospace;\n",
              "  font-weight: bold;\n",
              "  display: inline-block;\n",
              "  line-height: 1.2em;\n",
              "}\n",
              "\n",
              "#sk-container-id-1 div.sk-label-container {\n",
              "  text-align: center;\n",
              "}\n",
              "\n",
              "/* Estimator-specific */\n",
              "#sk-container-id-1 div.sk-estimator {\n",
              "  font-family: monospace;\n",
              "  border: 1px dotted var(--sklearn-color-border-box);\n",
              "  border-radius: 0.25em;\n",
              "  box-sizing: border-box;\n",
              "  margin-bottom: 0.5em;\n",
              "  /* unfitted */\n",
              "  background-color: var(--sklearn-color-unfitted-level-0);\n",
              "}\n",
              "\n",
              "#sk-container-id-1 div.sk-estimator.fitted {\n",
              "  /* fitted */\n",
              "  background-color: var(--sklearn-color-fitted-level-0);\n",
              "}\n",
              "\n",
              "/* on hover */\n",
              "#sk-container-id-1 div.sk-estimator:hover {\n",
              "  /* unfitted */\n",
              "  background-color: var(--sklearn-color-unfitted-level-2);\n",
              "}\n",
              "\n",
              "#sk-container-id-1 div.sk-estimator.fitted:hover {\n",
              "  /* fitted */\n",
              "  background-color: var(--sklearn-color-fitted-level-2);\n",
              "}\n",
              "\n",
              "/* Specification for estimator info (e.g. \"i\" and \"?\") */\n",
              "\n",
              "/* Common style for \"i\" and \"?\" */\n",
              "\n",
              ".sk-estimator-doc-link,\n",
              "a:link.sk-estimator-doc-link,\n",
              "a:visited.sk-estimator-doc-link {\n",
              "  float: right;\n",
              "  font-size: smaller;\n",
              "  line-height: 1em;\n",
              "  font-family: monospace;\n",
              "  background-color: var(--sklearn-color-background);\n",
              "  border-radius: 1em;\n",
              "  height: 1em;\n",
              "  width: 1em;\n",
              "  text-decoration: none !important;\n",
              "  margin-left: 1ex;\n",
              "  /* unfitted */\n",
              "  border: var(--sklearn-color-unfitted-level-1) 1pt solid;\n",
              "  color: var(--sklearn-color-unfitted-level-1);\n",
              "}\n",
              "\n",
              ".sk-estimator-doc-link.fitted,\n",
              "a:link.sk-estimator-doc-link.fitted,\n",
              "a:visited.sk-estimator-doc-link.fitted {\n",
              "  /* fitted */\n",
              "  border: var(--sklearn-color-fitted-level-1) 1pt solid;\n",
              "  color: var(--sklearn-color-fitted-level-1);\n",
              "}\n",
              "\n",
              "/* On hover */\n",
              "div.sk-estimator:hover .sk-estimator-doc-link:hover,\n",
              ".sk-estimator-doc-link:hover,\n",
              "div.sk-label-container:hover .sk-estimator-doc-link:hover,\n",
              ".sk-estimator-doc-link:hover {\n",
              "  /* unfitted */\n",
              "  background-color: var(--sklearn-color-unfitted-level-3);\n",
              "  color: var(--sklearn-color-background);\n",
              "  text-decoration: none;\n",
              "}\n",
              "\n",
              "div.sk-estimator.fitted:hover .sk-estimator-doc-link.fitted:hover,\n",
              ".sk-estimator-doc-link.fitted:hover,\n",
              "div.sk-label-container:hover .sk-estimator-doc-link.fitted:hover,\n",
              ".sk-estimator-doc-link.fitted:hover {\n",
              "  /* fitted */\n",
              "  background-color: var(--sklearn-color-fitted-level-3);\n",
              "  color: var(--sklearn-color-background);\n",
              "  text-decoration: none;\n",
              "}\n",
              "\n",
              "/* Span, style for the box shown on hovering the info icon */\n",
              ".sk-estimator-doc-link span {\n",
              "  display: none;\n",
              "  z-index: 9999;\n",
              "  position: relative;\n",
              "  font-weight: normal;\n",
              "  right: .2ex;\n",
              "  padding: .5ex;\n",
              "  margin: .5ex;\n",
              "  width: min-content;\n",
              "  min-width: 20ex;\n",
              "  max-width: 50ex;\n",
              "  color: var(--sklearn-color-text);\n",
              "  box-shadow: 2pt 2pt 4pt #999;\n",
              "  /* unfitted */\n",
              "  background: var(--sklearn-color-unfitted-level-0);\n",
              "  border: .5pt solid var(--sklearn-color-unfitted-level-3);\n",
              "}\n",
              "\n",
              ".sk-estimator-doc-link.fitted span {\n",
              "  /* fitted */\n",
              "  background: var(--sklearn-color-fitted-level-0);\n",
              "  border: var(--sklearn-color-fitted-level-3);\n",
              "}\n",
              "\n",
              ".sk-estimator-doc-link:hover span {\n",
              "  display: block;\n",
              "}\n",
              "\n",
              "/* \"?\"-specific style due to the `<a>` HTML tag */\n",
              "\n",
              "#sk-container-id-1 a.estimator_doc_link {\n",
              "  float: right;\n",
              "  font-size: 1rem;\n",
              "  line-height: 1em;\n",
              "  font-family: monospace;\n",
              "  background-color: var(--sklearn-color-background);\n",
              "  border-radius: 1rem;\n",
              "  height: 1rem;\n",
              "  width: 1rem;\n",
              "  text-decoration: none;\n",
              "  /* unfitted */\n",
              "  color: var(--sklearn-color-unfitted-level-1);\n",
              "  border: var(--sklearn-color-unfitted-level-1) 1pt solid;\n",
              "}\n",
              "\n",
              "#sk-container-id-1 a.estimator_doc_link.fitted {\n",
              "  /* fitted */\n",
              "  border: var(--sklearn-color-fitted-level-1) 1pt solid;\n",
              "  color: var(--sklearn-color-fitted-level-1);\n",
              "}\n",
              "\n",
              "/* On hover */\n",
              "#sk-container-id-1 a.estimator_doc_link:hover {\n",
              "  /* unfitted */\n",
              "  background-color: var(--sklearn-color-unfitted-level-3);\n",
              "  color: var(--sklearn-color-background);\n",
              "  text-decoration: none;\n",
              "}\n",
              "\n",
              "#sk-container-id-1 a.estimator_doc_link.fitted:hover {\n",
              "  /* fitted */\n",
              "  background-color: var(--sklearn-color-fitted-level-3);\n",
              "}\n",
              "</style><div id=\"sk-container-id-1\" class=\"sk-top-container\"><div class=\"sk-text-repr-fallback\"><pre>RandomForestRegressor(random_state=42)</pre><b>In a Jupyter environment, please rerun this cell to show the HTML representation or trust the notebook. <br />On GitHub, the HTML representation is unable to render, please try loading this page with nbviewer.org.</b></div><div class=\"sk-container\" hidden><div class=\"sk-item\"><div class=\"sk-estimator fitted sk-toggleable\"><input class=\"sk-toggleable__control sk-hidden--visually\" id=\"sk-estimator-id-1\" type=\"checkbox\" checked><label for=\"sk-estimator-id-1\" class=\"sk-toggleable__label fitted sk-toggleable__label-arrow fitted\">&nbsp;&nbsp;RandomForestRegressor<a class=\"sk-estimator-doc-link fitted\" rel=\"noreferrer\" target=\"_blank\" href=\"https://scikit-learn.org/1.5/modules/generated/sklearn.ensemble.RandomForestRegressor.html\">?<span>Documentation for RandomForestRegressor</span></a><span class=\"sk-estimator-doc-link fitted\">i<span>Fitted</span></span></label><div class=\"sk-toggleable__content fitted\"><pre>RandomForestRegressor(random_state=42)</pre></div> </div></div></div></div>"
            ]
          },
          "execution_count": 27,
          "metadata": {},
          "output_type": "execute_result"
        }
      ],
      "execution_count": null
    },
    {
      "metadata": {
        "ExecuteTime": {
          "end_time": "2024-09-19T14:19:02.914884Z",
          "start_time": "2024-09-19T14:19:02.905707Z"
        },
        "id": "de216c83f4f7ad62"
      },
      "cell_type": "code",
      "source": [
        "y_pred = rf.predict(X_test)"
      ],
      "id": "de216c83f4f7ad62",
      "outputs": [],
      "execution_count": null
    },
    {
      "metadata": {
        "id": "77a81521853ad657"
      },
      "cell_type": "markdown",
      "source": [
        "Метрики оценки модели"
      ],
      "id": "77a81521853ad657"
    },
    {
      "metadata": {
        "ExecuteTime": {
          "end_time": "2024-09-19T14:19:02.944903Z",
          "start_time": "2024-09-19T14:19:02.939910Z"
        },
        "id": "d6fbe55090c31cb8",
        "outputId": "dfc5c566-5376-4d19-d93c-4f11a65353a4"
      },
      "cell_type": "code",
      "source": [
        "mse = mean_squared_error(y_test, y_pred)\n",
        "print(f'MSE: {mse:.2f}')"
      ],
      "id": "d6fbe55090c31cb8",
      "outputs": [
        {
          "name": "stdout",
          "output_type": "stream",
          "text": [
            "MSE: 19717146543.94\n"
          ]
        }
      ],
      "execution_count": null
    },
    {
      "metadata": {
        "ExecuteTime": {
          "end_time": "2024-09-19T14:19:03.009582Z",
          "start_time": "2024-09-19T14:19:02.998848Z"
        },
        "id": "cf1abdc9abcf6ba8",
        "outputId": "6549506b-aaa6-43ac-e00e-f3ee1e5f0028"
      },
      "cell_type": "code",
      "source": [
        "print(f'R-squared: {rf.score(X_test, y_test):.2f}')\n"
      ],
      "id": "cf1abdc9abcf6ba8",
      "outputs": [
        {
          "name": "stdout",
          "output_type": "stream",
          "text": [
            "R-squared: 0.99\n"
          ]
        }
      ],
      "execution_count": null
    },
    {
      "metadata": {
        "ExecuteTime": {
          "end_time": "2024-09-19T14:19:03.060945Z",
          "start_time": "2024-09-19T14:19:03.057089Z"
        },
        "id": "667877435b828117",
        "outputId": "40104058-0606-4c50-d02d-95854d9dcd70"
      },
      "cell_type": "code",
      "source": [
        "mae = mean_absolute_error(y_test, y_pred)\n",
        "print(f'MAE: {mae:.2f}') # Mean Absolute Error (mae)"
      ],
      "id": "667877435b828117",
      "outputs": [
        {
          "name": "stdout",
          "output_type": "stream",
          "text": [
            "MAE: 93542.14\n"
          ]
        }
      ],
      "execution_count": null
    },
    {
      "metadata": {
        "ExecuteTime": {
          "end_time": "2024-09-19T14:19:03.133242Z",
          "start_time": "2024-09-19T14:19:03.124796Z"
        },
        "id": "895008b27b0da92f",
        "outputId": "11ae4cb2-b25f-4757-b735-a142a233a01c"
      },
      "cell_type": "code",
      "source": [
        "df_merged.loc[df_merged['year'] == 2024].sort_values(by='date', ascending=False).head(3)"
      ],
      "id": "895008b27b0da92f",
      "outputs": [
        {
          "data": {
            "text/plain": [
              "     year    month      week       date  active_clients          gmv  \\\n",
              "593  2024 2,024.08  2024.w35 2024-08-31              68 2,813,324.65   \n",
              "592  2024 2,024.08  2024.w35 2024-08-30             168 5,493,522.97   \n",
              "591  2024 2,024.08  2024.w35 2024-08-29             175 6,521,139.29   \n",
              "\n",
              "     gmv_per_customer  gmv_units  average_bill  number_orders  \n",
              "593         41,372.42   5,760.00     24,896.68            113  \n",
              "592         32,699.54  17,560.80     16,394.82            344  \n",
              "591         37,263.65  16,297.50     18,862.10            347  "
            ],
            "text/html": [
              "<div>\n",
              "<style scoped>\n",
              "    .dataframe tbody tr th:only-of-type {\n",
              "        vertical-align: middle;\n",
              "    }\n",
              "\n",
              "    .dataframe tbody tr th {\n",
              "        vertical-align: top;\n",
              "    }\n",
              "\n",
              "    .dataframe thead th {\n",
              "        text-align: right;\n",
              "    }\n",
              "</style>\n",
              "<table border=\"1\" class=\"dataframe\">\n",
              "  <thead>\n",
              "    <tr style=\"text-align: right;\">\n",
              "      <th></th>\n",
              "      <th>year</th>\n",
              "      <th>month</th>\n",
              "      <th>week</th>\n",
              "      <th>date</th>\n",
              "      <th>active_clients</th>\n",
              "      <th>gmv</th>\n",
              "      <th>gmv_per_customer</th>\n",
              "      <th>gmv_units</th>\n",
              "      <th>average_bill</th>\n",
              "      <th>number_orders</th>\n",
              "    </tr>\n",
              "  </thead>\n",
              "  <tbody>\n",
              "    <tr>\n",
              "      <th>593</th>\n",
              "      <td>2024</td>\n",
              "      <td>2,024.08</td>\n",
              "      <td>2024.w35</td>\n",
              "      <td>2024-08-31</td>\n",
              "      <td>68</td>\n",
              "      <td>2,813,324.65</td>\n",
              "      <td>41,372.42</td>\n",
              "      <td>5,760.00</td>\n",
              "      <td>24,896.68</td>\n",
              "      <td>113</td>\n",
              "    </tr>\n",
              "    <tr>\n",
              "      <th>592</th>\n",
              "      <td>2024</td>\n",
              "      <td>2,024.08</td>\n",
              "      <td>2024.w35</td>\n",
              "      <td>2024-08-30</td>\n",
              "      <td>168</td>\n",
              "      <td>5,493,522.97</td>\n",
              "      <td>32,699.54</td>\n",
              "      <td>17,560.80</td>\n",
              "      <td>16,394.82</td>\n",
              "      <td>344</td>\n",
              "    </tr>\n",
              "    <tr>\n",
              "      <th>591</th>\n",
              "      <td>2024</td>\n",
              "      <td>2,024.08</td>\n",
              "      <td>2024.w35</td>\n",
              "      <td>2024-08-29</td>\n",
              "      <td>175</td>\n",
              "      <td>6,521,139.29</td>\n",
              "      <td>37,263.65</td>\n",
              "      <td>16,297.50</td>\n",
              "      <td>18,862.10</td>\n",
              "      <td>347</td>\n",
              "    </tr>\n",
              "  </tbody>\n",
              "</table>\n",
              "</div>"
            ]
          },
          "execution_count": 32,
          "metadata": {},
          "output_type": "execute_result"
        }
      ],
      "execution_count": null
    },
    {
      "metadata": {
        "id": "27b39eea89402bbe"
      },
      "cell_type": "markdown",
      "source": [
        "Предсказание прогноза с помощью новых данных"
      ],
      "id": "27b39eea89402bbe"
    },
    {
      "metadata": {
        "ExecuteTime": {
          "end_time": "2024-09-19T14:19:03.217818Z",
          "start_time": "2024-09-19T14:19:03.208482Z"
        },
        "id": "4286800b741519d1",
        "outputId": "d4fa2fe9-9f87-4b0f-aa16-af0595177a7f"
      },
      "cell_type": "code",
      "source": [
        "new_data = pd.DataFrame({'active_clients': [100], 'gmv_per_customer': [45000], 'gmv_units': [6000], 'average_bill': [26000], 'number_orders': [120]})\n",
        "new_pred = rf.predict(new_data)\n",
        "print(f'Прогноз  значения GMV: {new_pred[0]:.2f}')"
      ],
      "id": "4286800b741519d1",
      "outputs": [
        {
          "name": "stdout",
          "output_type": "stream",
          "text": [
            "Прогноз  значения GMV: 3371820.63\n"
          ]
        }
      ],
      "execution_count": null
    },
    {
      "metadata": {
        "id": "16e02c34385ad0d0"
      },
      "cell_type": "markdown",
      "source": [
        "Оценим важность признаков"
      ],
      "id": "16e02c34385ad0d0"
    },
    {
      "metadata": {
        "ExecuteTime": {
          "end_time": "2024-09-19T14:19:03.298869Z",
          "start_time": "2024-09-19T14:19:03.291724Z"
        },
        "id": "c34b6ab46b6e4e5e"
      },
      "cell_type": "code",
      "source": [
        "feature_importances = rf.feature_importances_"
      ],
      "id": "c34b6ab46b6e4e5e",
      "outputs": [],
      "execution_count": null
    },
    {
      "metadata": {
        "ExecuteTime": {
          "end_time": "2024-09-19T14:19:03.415651Z",
          "start_time": "2024-09-19T14:19:03.412446Z"
        },
        "id": "4dcd9a4a05f5204b"
      },
      "cell_type": "code",
      "source": [
        "features = X.columns\n",
        "feature_importances_df = pd.DataFrame({'feature': features, 'importance': feature_importances})"
      ],
      "id": "4dcd9a4a05f5204b",
      "outputs": [],
      "execution_count": null
    },
    {
      "metadata": {
        "ExecuteTime": {
          "end_time": "2024-09-19T14:19:03.500622Z",
          "start_time": "2024-09-19T14:19:03.496349Z"
        },
        "id": "3cdd19a1d8d63c71"
      },
      "cell_type": "code",
      "source": [
        "feature_importances_df = feature_importances_df.sort_values(by='importance', ascending=False)"
      ],
      "id": "3cdd19a1d8d63c71",
      "outputs": [],
      "execution_count": null
    },
    {
      "metadata": {
        "ExecuteTime": {
          "end_time": "2024-09-19T14:19:03.715910Z",
          "start_time": "2024-09-19T14:19:03.549536Z"
        },
        "id": "938aa53f0132adc",
        "outputId": "2ff408a3-56ab-48c7-8d2d-464f2a9ca827"
      },
      "cell_type": "code",
      "source": [
        "sns.barplot(x='importance', y='feature', data=feature_importances_df)"
      ],
      "id": "938aa53f0132adc",
      "outputs": [
        {
          "data": {
            "text/plain": [
              "<Axes: xlabel='importance', ylabel='feature'>"
            ]
          },
          "execution_count": 37,
          "metadata": {},
          "output_type": "execute_result"
        },
        {
          "data": {
            "text/plain": [
              "<Figure size 640x480 with 1 Axes>"
            ],
            "image/png": "[encoded data removed]"
          },
          "metadata": {},
          "output_type": "display_data"
        }
      ],
      "execution_count": null
    },
    {
      "metadata": {
        "id": "29d92521b00340b9"
      },
      "cell_type": "markdown",
      "source": [
        "СР gmv  в 24 году и 23 году\n"
      ],
      "id": "29d92521b00340b9"
    },
    {
      "metadata": {
        "ExecuteTime": {
          "end_time": "2024-09-19T14:19:03.750822Z",
          "start_time": "2024-09-19T14:19:03.745185Z"
        },
        "id": "8854f1137aa60394",
        "outputId": "59cce663-e1df-44b7-d6c6-bbdc2880ddb6"
      },
      "cell_type": "code",
      "source": [
        "df_merged.loc[df_merged['year'] == 2024].gmv.mean().round(2)"
      ],
      "id": "8854f1137aa60394",
      "outputs": [
        {
          "data": {
            "text/plain": [
              "3789133.97"
            ]
          },
          "execution_count": 38,
          "metadata": {},
          "output_type": "execute_result"
        }
      ],
      "execution_count": null
    },
    {
      "metadata": {
        "ExecuteTime": {
          "end_time": "2024-09-19T14:19:03.808774Z",
          "start_time": "2024-09-19T14:19:03.802148Z"
        },
        "id": "a6409d50561f210d",
        "outputId": "86c79333-9dc3-4598-8fab-afd5a4203577"
      },
      "cell_type": "code",
      "source": [
        "df_merged.loc[df_merged['year'] == 2023].gmv.mean().round(2)"
      ],
      "id": "a6409d50561f210d",
      "outputs": [
        {
          "data": {
            "text/plain": [
              "1411026.58"
            ]
          },
          "execution_count": 39,
          "metadata": {},
          "output_type": "execute_result"
        }
      ],
      "execution_count": null
    },
    {
      "metadata": {
        "id": "10e028681fb07a46"
      },
      "cell_type": "markdown",
      "source": [
        "СР кол-во заказов  в 24 году и 23 году"
      ],
      "id": "10e028681fb07a46"
    },
    {
      "metadata": {
        "ExecuteTime": {
          "end_time": "2024-09-19T14:19:03.882045Z",
          "start_time": "2024-09-19T14:19:03.877049Z"
        },
        "id": "3c8aec810a21bd33",
        "outputId": "c88986d5-b0cb-4963-9d40-85c7b8e221e6"
      },
      "cell_type": "code",
      "source": [
        "df_merged.loc[df_merged['year'] == 2024].number_orders.mean().round(2)"
      ],
      "id": "3c8aec810a21bd33",
      "outputs": [
        {
          "data": {
            "text/plain": [
              "205.26"
            ]
          },
          "execution_count": 40,
          "metadata": {},
          "output_type": "execute_result"
        }
      ],
      "execution_count": null
    },
    {
      "metadata": {
        "ExecuteTime": {
          "end_time": "2024-09-19T14:19:03.951014Z",
          "start_time": "2024-09-19T14:19:03.948292Z"
        },
        "id": "efa3b9604f7431ae"
      },
      "cell_type": "code",
      "source": [],
      "id": "efa3b9604f7431ae",
      "outputs": [],
      "execution_count": null
    },
    {
      "metadata": {
        "ExecuteTime": {
          "end_time": "2024-09-19T14:19:03.983015Z",
          "start_time": "2024-09-19T14:19:03.977092Z"
        },
        "id": "b024f1bb58938928",
        "outputId": "9e9cba87-1e45-4a72-9824-0cc3da8fd83a"
      },
      "cell_type": "code",
      "source": [
        "df_merged.loc[df_merged['year'] == 2023].number_orders.mean().round(2)"
      ],
      "id": "b024f1bb58938928",
      "outputs": [
        {
          "data": {
            "text/plain": [
              "78.34"
            ]
          },
          "execution_count": 41,
          "metadata": {},
          "output_type": "execute_result"
        }
      ],
      "execution_count": null
    },
    {
      "metadata": {
        "id": "dc4892e8332a0b7b"
      },
      "cell_type": "markdown",
      "source": [],
      "id": "dc4892e8332a0b7b"
    },
    {
      "metadata": {
        "ExecuteTime": {
          "end_time": "2024-09-19T14:19:04.042347Z",
          "start_time": "2024-09-19T14:19:04.033577Z"
        },
        "id": "60cc823a0d7c6523",
        "outputId": "e52f983b-5534-487c-d372-ce85e90bc664"
      },
      "cell_type": "code",
      "source": [
        "print(\"Средние значения features и GMV в 24 г:\"\n",
        "      f'\\n GMV: {df_merged.loc[df_merged[\"year\"] == 2024].gmv.mean().round(2)}'\n",
        "      f'\\n number_orders: {df_merged.loc[df_merged[\"year\"] == 2024].number_orders.mean().round(2)}'\n",
        "      f'\\n gmv_per_customer: {df_merged.loc[df_merged[\"year\"] == 2024].gmv_per_customer.mean().round(2)}'\n",
        "      f'\\n average_bill: {df_merged.loc[df_merged[\"year\"] == 2024].average_bill.mean().round(2)}'\n",
        "      f'\\n gmv_units: {df_merged.loc[df_merged[\"year\"] == 2024].gmv_units.mean().round(2)}'\n",
        "      f'\\n active_clients: {df_merged.loc[df_merged[\"year\"] == 2024].active_clients.mean().round(2)}')"
      ],
      "id": "60cc823a0d7c6523",
      "outputs": [
        {
          "name": "stdout",
          "output_type": "stream",
          "text": [
            "Средние значения features и GMV в 24 г:\n",
            " GMV: 3789133.97\n",
            " number_orders: 205.26\n",
            " gmv_per_customer: 34070.31\n",
            " average_bill: 19925.11\n",
            " gmv_units: 11807.49\n",
            " active_clients: 113.57\n"
          ]
        }
      ],
      "execution_count": null
    },
    {
      "metadata": {
        "ExecuteTime": {
          "end_time": "2024-09-19T14:19:04.108356Z",
          "start_time": "2024-09-19T14:19:04.106154Z"
        },
        "id": "87b9974ebc9ee1ba"
      },
      "cell_type": "code",
      "source": [],
      "id": "87b9974ebc9ee1ba",
      "outputs": [],
      "execution_count": null
    },
    {
      "metadata": {
        "id": "f07d6e72e4a84e7e"
      },
      "cell_type": "markdown",
      "source": [
        "Прогнозное значение GMV  при росте АКБ +20% и росте кол-ва заказов +50%"
      ],
      "id": "f07d6e72e4a84e7e"
    },
    {
      "metadata": {
        "ExecuteTime": {
          "end_time": "2024-09-19T14:19:04.128375Z",
          "start_time": "2024-09-19T14:19:04.118897Z"
        },
        "id": "ad9a45d80222d409",
        "outputId": "d5ae3cb6-5e36-4eb8-a5c5-02faea05236a"
      },
      "cell_type": "code",
      "source": [
        "new_data = pd.DataFrame({'active_clients': [114 *1.2 ], 'gmv_per_customer': [34070], 'gmv_units': [11807], 'average_bill': [19925], 'number_orders': [205 * 1.5]})\n",
        "new_pred = rf.predict(new_data)\n",
        "print(f'Прогноз  значения GMV: {new_pred[0]:.2f}')"
      ],
      "id": "ad9a45d80222d409",
      "outputs": [
        {
          "name": "stdout",
          "output_type": "stream",
          "text": [
            "Прогноз  значения GMV: 5170143.69\n"
          ]
        }
      ],
      "execution_count": null
    },
    {
      "metadata": {
        "ExecuteTime": {
          "end_time": "2024-09-19T14:19:04.171433Z",
          "start_time": "2024-09-19T14:19:04.167639Z"
        },
        "id": "a1b653a3fa892320"
      },
      "cell_type": "code",
      "source": [
        "mean_gmv_24 = df_merged.loc[df_merged[\"year\"] == 2024].gmv.mean().round(2)\n"
      ],
      "id": "a1b653a3fa892320",
      "outputs": [],
      "execution_count": null
    },
    {
      "metadata": {
        "ExecuteTime": {
          "end_time": "2024-09-19T14:19:04.201225Z",
          "start_time": "2024-09-19T14:19:04.197375Z"
        },
        "id": "894813e847471b78",
        "outputId": "848beb51-3b8a-4410-d265-8e5a49f51193"
      },
      "cell_type": "code",
      "source": [
        " mean_gmv_24 / new_pred"
      ],
      "id": "894813e847471b78",
      "outputs": [
        {
          "data": {
            "text/plain": [
              "array([0.73288756])"
            ]
          },
          "execution_count": 45,
          "metadata": {},
          "output_type": "execute_result"
        }
      ],
      "execution_count": null
    },
    {
      "metadata": {
        "id": "8c7622fb4221b70b"
      },
      "cell_type": "code",
      "outputs": [],
      "execution_count": null,
      "source": [],
      "id": "8c7622fb4221b70b"
    },
    {
      "metadata": {
        "ExecuteTime": {
          "end_time": "2024-09-19T14:21:59.707850Z",
          "start_time": "2024-09-19T14:21:59.704694Z"
        },
        "id": "b7fa2de98553c10d"
      },
      "cell_type": "code",
      "source": [
        "train_data = df_merged[['active_clients', 'gmv_per_customer', 'gmv_units', 'average_bill', 'number_orders']]"
      ],
      "id": "b7fa2de98553c10d",
      "outputs": [],
      "execution_count": null
    },
    {
      "metadata": {
        "id": "f77f1257680350f2"
      },
      "cell_type": "code",
      "outputs": [],
      "execution_count": null,
      "source": [
        "import numpy as np\n",
        "from catboost import Pool, CatBoostRegressor\n",
        "# initialize data\n",
        "train_data = np.random.randint(0,\n",
        "                               100,\n",
        "                               size=(100, 10))\n",
        "train_label = np.random.randint(0,\n",
        "                                1000,\n",
        "                                size=(100))\n",
        "test_data = np.random.randint(0,\n",
        "                              100,\n",
        "                              size=(50, 10))\n",
        "# initialize Pool\n",
        "train_pool = Pool(train_data,\n",
        "                  train_label,\n",
        "                  cat_features=[0,2,5])\n",
        "test_pool = Pool(test_data,\n",
        "                 cat_features=[0,2,5])\n",
        "\n",
        "# specify the training parameters\n",
        "model = CatBoostRegressor(iterations=2,\n",
        "                          depth=2,\n",
        "                          learning_rate=1,\n",
        "                          loss_function='RMSE')\n",
        "#train the model\n",
        "model.fit(train_pool)\n",
        "# make the prediction using the resulting model\n",
        "preds = model.predict(test_pool)\n",
        "print(preds)"
      ],
      "id": "f77f1257680350f2"
    }
  ],
  "metadata": {
    "kernelspec": {
      "display_name": "Python 3",
      "language": "python",
      "name": "python3"
    },
    "language_info": {
      "codemirror_mode": {
        "name": "ipython",
        "version": 2
      },
      "file_extension": ".py",
      "mimetype": "text/x-python",
      "name": "python",
      "nbconvert_exporter": "python",
      "pygments_lexer": "ipython2",
      "version": "2.7.6"
    },
    "colab": {
      "provenance": []
    }
  },
  "nbformat": 4,
  "nbformat_minor": 5
}