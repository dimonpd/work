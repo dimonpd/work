{
 "cells": [
  {
   "cell_type": "code",
   "id": "initial_id",
   "metadata": {
    "collapsed": true,
    "ExecuteTime": {
     "end_time": "2024-09-12T17:22:45.159223Z",
     "start_time": "2024-09-12T17:22:44.976319Z"
    }
   },
   "source": [
    "import streamlit as st\n",
    "import joblib"
   ],
   "outputs": [],
   "execution_count": 6
  },
  {
   "metadata": {
    "ExecuteTime": {
     "end_time": "2024-09-12T17:22:46.909652Z",
     "start_time": "2024-09-12T17:22:46.732339Z"
    }
   },
   "cell_type": "code",
   "source": [
    "rf = joblib.load('rf_model.joblib')\n",
    "# Создайте форму для ввода данных\n",
    "st.title('Прогнозирование')\n",
    "st.write('Введите данные для прогнозирования')\n",
    "\n",
    "# Создайте поля для ввода данных\n",
    "X_input = st.number_input('X', min_value=0, max_value=100)\n",
    "\n",
    "# Создайте кнопку для запуска прогнозирования\n",
    "if st.button('Прогнозировать'):\n",
    "    # Прогнозируйте значение\n",
    "    y_pred = rf.predict([[X_input]])\n",
    "    st.write(f'Прогнозируемое значение: {y_pred[0]}')"
   ],
   "id": "224c9e07fafa4a75",
   "outputs": [
    {
     "name": "stderr",
     "output_type": "stream",
     "text": [
      "2024-09-12 20:22:46.837 WARNING streamlit.runtime.scriptrunner_utils.script_run_context: Thread 'MainThread': missing ScriptRunContext! This warning can be ignored when running in bare mode.\n",
      "2024-09-12 20:22:46.902 \n",
      "  \u001B[33m\u001B[1mWarning:\u001B[0m to view this Streamlit app on a browser, run it with the following\n",
      "  command:\n",
      "\n",
      "    streamlit run C:\\Users\\Dimon\\anaconda3\\envs\\work\\lib\\site-packages\\ipykernel_launcher.py [ARGUMENTS]\n",
      "2024-09-12 20:22:46.902 Thread 'MainThread': missing ScriptRunContext! This warning can be ignored when running in bare mode.\n",
      "2024-09-12 20:22:46.903 Thread 'MainThread': missing ScriptRunContext! This warning can be ignored when running in bare mode.\n",
      "2024-09-12 20:22:46.903 Thread 'MainThread': missing ScriptRunContext! This warning can be ignored when running in bare mode.\n",
      "2024-09-12 20:22:46.903 Thread 'MainThread': missing ScriptRunContext! This warning can be ignored when running in bare mode.\n",
      "2024-09-12 20:22:46.904 Thread 'MainThread': missing ScriptRunContext! This warning can be ignored when running in bare mode.\n",
      "2024-09-12 20:22:46.904 Thread 'MainThread': missing ScriptRunContext! This warning can be ignored when running in bare mode.\n",
      "2024-09-12 20:22:46.905 Thread 'MainThread': missing ScriptRunContext! This warning can be ignored when running in bare mode.\n",
      "2024-09-12 20:22:46.905 Thread 'MainThread': missing ScriptRunContext! This warning can be ignored when running in bare mode.\n",
      "2024-09-12 20:22:46.905 Session state does not function when running a script without `streamlit run`\n",
      "2024-09-12 20:22:46.906 Thread 'MainThread': missing ScriptRunContext! This warning can be ignored when running in bare mode.\n",
      "2024-09-12 20:22:46.906 Thread 'MainThread': missing ScriptRunContext! This warning can be ignored when running in bare mode.\n",
      "2024-09-12 20:22:46.907 Thread 'MainThread': missing ScriptRunContext! This warning can be ignored when running in bare mode.\n",
      "2024-09-12 20:22:46.907 Thread 'MainThread': missing ScriptRunContext! This warning can be ignored when running in bare mode.\n",
      "2024-09-12 20:22:46.907 Thread 'MainThread': missing ScriptRunContext! This warning can be ignored when running in bare mode.\n",
      "2024-09-12 20:22:46.908 Thread 'MainThread': missing ScriptRunContext! This warning can be ignored when running in bare mode.\n"
     ]
    }
   ],
   "execution_count": 7
  }
 ],
 "metadata": {
  "kernelspec": {
   "display_name": "Python 3",
   "language": "python",
   "name": "python3"
  },
  "language_info": {
   "codemirror_mode": {
    "name": "ipython",
    "version": 2
   },
   "file_extension": ".py",
   "mimetype": "text/x-python",
   "name": "python",
   "nbconvert_exporter": "python",
   "pygments_lexer": "ipython2",
   "version": "2.7.6"
  }
 },
 "nbformat": 4,
 "nbformat_minor": 5
}
